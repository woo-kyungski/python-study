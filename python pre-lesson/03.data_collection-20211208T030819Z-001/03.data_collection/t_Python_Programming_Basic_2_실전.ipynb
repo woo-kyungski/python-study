{
  "nbformat": 4,
  "nbformat_minor": 5,
  "metadata": {
    "kernelspec": {
      "display_name": "Python 3",
      "language": "python",
      "name": "python3"
    },
    "language_info": {
      "codemirror_mode": {
        "name": "ipython",
        "version": 3
      },
      "file_extension": ".py",
      "mimetype": "text/x-python",
      "name": "python",
      "nbconvert_exporter": "python",
      "pygments_lexer": "ipython3",
      "version": "3.8.8"
    },
    "colab": {
      "name": "t_Python Programming Basic 2 실전.ipynb",
      "provenance": [],
      "collapsed_sections": []
    }
  },
  "cells": [
    {
      "cell_type": "markdown",
      "metadata": {
        "id": "ea5bf6e9"
      },
      "source": [
        "# Python Programming Basic 2 실전"
      ],
      "id": "ea5bf6e9"
    },
    {
      "cell_type": "markdown",
      "metadata": {
        "id": "7e06b4c5"
      },
      "source": [
        "## URL 주소를 만들어주세요\n",
        "- playdata를 입력했을 때, https://playdata.io 를 반환하는 함수를 만들어 주세요.\n",
        "    - playdata_url('playdata')"
      ],
      "id": "7e06b4c5"
    },
    {
      "cell_type": "code",
      "metadata": {
        "id": "dbca3246"
      },
      "source": [
        "# 함수 작성\n"
      ],
      "id": "dbca3246",
      "execution_count": null,
      "outputs": []
    },
    {
      "cell_type": "markdown",
      "metadata": {
        "id": "fbb5049a"
      },
      "source": [
        "### 결과\n",
        "'https://playdata.io'"
      ],
      "id": "fbb5049a"
    },
    {
      "cell_type": "code",
      "metadata": {
        "scrolled": true,
        "id": "2697a5b7"
      },
      "source": [
        "playdata_url('playdata')"
      ],
      "id": "2697a5b7",
      "execution_count": null,
      "outputs": []
    },
    {
      "cell_type": "code",
      "metadata": {
        "id": "bfdd9a88"
      },
      "source": [
        ""
      ],
      "id": "bfdd9a88",
      "execution_count": null,
      "outputs": []
    },
    {
      "cell_type": "markdown",
      "metadata": {
        "id": "f3db3bad"
      },
      "source": [
        "## 숫자만을 원해\n",
        "- 숫자를 다루어야 하는 일이 생겼습니다. 그런데 데이터를 보니 콤마가 포함이 되어있네요... 나는 숫자만 필요한데... 숫자만 반환해주는 함수를 만들어 주세요.\n",
        "    - remove_comma(data)"
      ],
      "id": "f3db3bad"
    },
    {
      "cell_type": "code",
      "metadata": {
        "id": "001851c4"
      },
      "source": [
        "data = '23,524,414'"
      ],
      "id": "001851c4",
      "execution_count": null,
      "outputs": []
    },
    {
      "cell_type": "code",
      "metadata": {
        "id": "b83411c4"
      },
      "source": [
        "# 함수 작성\n"
      ],
      "id": "b83411c4",
      "execution_count": null,
      "outputs": []
    },
    {
      "cell_type": "markdown",
      "metadata": {
        "id": "19af427c"
      },
      "source": [
        "### 결과\n",
        "23524414"
      ],
      "id": "19af427c"
    },
    {
      "cell_type": "code",
      "metadata": {
        "id": "480520a9"
      },
      "source": [
        "remove_comma(data)"
      ],
      "id": "480520a9",
      "execution_count": null,
      "outputs": []
    },
    {
      "cell_type": "code",
      "metadata": {
        "id": "19283073"
      },
      "source": [
        ""
      ],
      "id": "19283073",
      "execution_count": null,
      "outputs": []
    },
    {
      "cell_type": "markdown",
      "metadata": {
        "id": "eacd1cbd"
      },
      "source": [
        "## 나의 평균 푸쉬업 개수는?\n",
        "- 건강을 위해 20일동안 푸쉬업을 했습니다. 20일동안 나의 평균 푸쉬업 개수는 몇개일까요?\n",
        "    - avg_push(nums)"
      ],
      "id": "eacd1cbd"
    },
    {
      "cell_type": "code",
      "metadata": {
        "id": "88d4bd6d"
      },
      "source": [
        "nums = [6, 2, 5, 7, 9, 6, 3, 8, 11, 15, 9, 16, 16, 12, 18, 20, 25, 27, 23, 31]"
      ],
      "id": "88d4bd6d",
      "execution_count": null,
      "outputs": []
    },
    {
      "cell_type": "code",
      "metadata": {
        "id": "473dc8fe"
      },
      "source": [
        "# 함수 작성\n",
        "\n"
      ],
      "id": "473dc8fe",
      "execution_count": null,
      "outputs": []
    },
    {
      "cell_type": "markdown",
      "metadata": {
        "id": "f7522654"
      },
      "source": [
        "### 결과\n",
        "13.45"
      ],
      "id": "f7522654"
    },
    {
      "cell_type": "code",
      "metadata": {
        "id": "8eecaadf"
      },
      "source": [
        "avg_push(nums)"
      ],
      "id": "8eecaadf",
      "execution_count": null,
      "outputs": []
    },
    {
      "cell_type": "code",
      "metadata": {
        "id": "fd6a6280"
      },
      "source": [
        ""
      ],
      "id": "fd6a6280",
      "execution_count": null,
      "outputs": []
    },
    {
      "cell_type": "markdown",
      "metadata": {
        "id": "bb050cbd"
      },
      "source": [
        "## 이게 다 얼마야?\n",
        "- 제가 No브랜드 과자를 엄청 좋아해요. 장보러 간김에 먹고싶은 과자들을 마구마구 담았는데요. 막상 사고보니 가격과 열량이 궁금하더라구요. 제품 : [가격, 열량] 으로 표시가 되어있는데, 구매 예정 과자의 총 가격, 총 열량은 얼마나 될까요?\n",
        "    - no_snanks = {'미니비스킷': [2580, 1575], '별사탕건빵': [980, 1025], '바삭한콘칩': [1950, 503], '담백한통감자': [1680, 524], '고르곤졸라소프트콘': [1280, 690]}"
      ],
      "id": "bb050cbd"
    },
    {
      "cell_type": "code",
      "metadata": {
        "id": "3070bf61"
      },
      "source": [
        "no_snacks = {'미니비스킷': [2580, 1575], '별사탕건빵': [980, 1025], '바삭한콘칩': [1950, 503], '담백한통감자': [1680, 524], '고르곤졸라소프트콘': [1280, 690]}\n",
        "total_price = 0\n",
        "total_kcal = 0"
      ],
      "id": "3070bf61",
      "execution_count": null,
      "outputs": []
    },
    {
      "cell_type": "code",
      "metadata": {
        "id": "8f98ae3c"
      },
      "source": [
        "# 함수 작성\n"
      ],
      "id": "8f98ae3c",
      "execution_count": null,
      "outputs": []
    },
    {
      "cell_type": "markdown",
      "metadata": {
        "id": "713505a1"
      },
      "source": [
        "### 결과\n",
        "총가격 : 8470 원 <br>\n",
        "총열량 : 4317 kcal"
      ],
      "id": "713505a1"
    },
    {
      "cell_type": "code",
      "metadata": {
        "id": "f5eb594c"
      },
      "source": [
        "cal_total_price_kcal(no_snacks, total_price, total_kcal)"
      ],
      "id": "f5eb594c",
      "execution_count": null,
      "outputs": []
    },
    {
      "cell_type": "code",
      "source": [
        ""
      ],
      "metadata": {
        "id": "s3EJvDAAfWPa"
      },
      "id": "s3EJvDAAfWPa",
      "execution_count": null,
      "outputs": []
    }
  ]
}