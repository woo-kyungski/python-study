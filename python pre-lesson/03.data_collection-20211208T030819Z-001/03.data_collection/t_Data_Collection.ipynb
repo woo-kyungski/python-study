{
  "nbformat": 4,
  "nbformat_minor": 5,
  "metadata": {
    "kernelspec": {
      "display_name": "Python 3",
      "language": "python",
      "name": "python3"
    },
    "language_info": {
      "codemirror_mode": {
        "name": "ipython",
        "version": 3
      },
      "file_extension": ".py",
      "mimetype": "text/x-python",
      "name": "python",
      "nbconvert_exporter": "python",
      "pygments_lexer": "ipython3",
      "version": "3.8.8"
    },
    "colab": {
      "name": "t_Data Collection.ipynb",
      "provenance": [],
      "collapsed_sections": []
    }
  },
  "cells": [
    {
      "cell_type": "markdown",
      "metadata": {
        "id": "df63f6dd"
      },
      "source": [
        "# 데이터 수집 Data Collection"
      ],
      "id": "df63f6dd"
    },
    {
      "cell_type": "markdown",
      "metadata": {
        "id": "24079f90"
      },
      "source": [
        "## 웹 크롤링 Web Crawling\n",
        "- 웹에서 필요한 정보를 수집하는 행위\n",
        "- 프로세스\n",
        "    - 크롤링 대상 웹페이지 파싱\n",
        "    - 전체데이터, 단위데이터 선택\n",
        "    - 단위 데이터 활용"
      ],
      "id": "24079f90"
    },
    {
      "cell_type": "markdown",
      "metadata": {
        "id": "f69624c1"
      },
      "source": [
        "## 라이브러리 Library"
      ],
      "id": "f69624c1"
    },
    {
      "cell_type": "markdown",
      "metadata": {
        "id": "0caa0133"
      },
      "source": [
        "#### 1.Requests\n",
        "- https://docs.python-requests.org/en/latest/\n",
        "requests\n",
        "\t- 요청보내기\n",
        "\t\trequest.request(method, url, [...])\n",
        "\n",
        "    - 응답내용\n",
        "        - response = requests.get(url)\n",
        "        - response.text # 텍스트 형식의 응답 결과 확인\n",
        "        - response.content # 바이트 형식의 응답 결과 확인\n",
        "        - response.encoding # 응답 컨텐츠의 인코딩 방식 확인\n",
        "        - response.status_code # 응답 상태 코드 확인\n",
        "        - response.headers # 응답 헤더 확인"
      ],
      "id": "0caa0133"
    },
    {
      "cell_type": "markdown",
      "metadata": {
        "id": "86b349f0"
      },
      "source": [
        "#### 2.BeautifulSoup\n",
        "- https://www.crummy.com/software/BeautifulSoup/"
      ],
      "id": "86b349f0"
    },
    {
      "cell_type": "markdown",
      "metadata": {
        "id": "2d5b8a62"
      },
      "source": [
        "## 파이썬 - 위키피디아 \n",
        "- https://en.wikipedia.org/wiki/Python"
      ],
      "id": "2d5b8a62"
    },
    {
      "cell_type": "code",
      "metadata": {
        "id": "38f60e26"
      },
      "source": [
        ""
      ],
      "id": "38f60e26",
      "execution_count": null,
      "outputs": []
    },
    {
      "cell_type": "markdown",
      "source": [
        "### 결과\n",
        "```\n",
        "Computing\n",
        "People\n",
        "Roller coasters\n",
        "Vehicles\n",
        "Weaponry\n",
        "Other uses\n",
        "See also\n",
        "```"
      ],
      "metadata": {
        "id": "8SgZTN39ecZK"
      },
      "id": "8SgZTN39ecZK"
    },
    {
      "cell_type": "markdown",
      "metadata": {
        "id": "f5e7ac2d"
      },
      "source": [
        "## 핫딜 : 네이버 쇼핑 \n",
        "- https://shopping.naver.com/hotdeal/p/index.naver"
      ],
      "id": "f5e7ac2d"
    },
    {
      "cell_type": "code",
      "source": [
        ""
      ],
      "metadata": {
        "id": "0DxGBgYkeW0v"
      },
      "id": "0DxGBgYkeW0v",
      "execution_count": null,
      "outputs": []
    },
    {
      "cell_type": "markdown",
      "metadata": {
        "id": "c71e3b25"
      },
      "source": [
        "### 결과\n",
        "```\n",
        " 가히 멀티밤\n",
        " 요소수\n",
        " 갤럭시 s21\n",
        " 2022 탁상달력\n",
        " 크리스마스트리\n",
        " 노스피크\n",
        " 크리스마스 풍선\n",
        " 삼성 복합기\n",
        " kf94 마스크 새부리형\n",
        " kf94 마스크\n",
        "```"
      ],
      "id": "c71e3b25"
    },
    {
      "cell_type": "code",
      "metadata": {
        "id": "5c76ec1f"
      },
      "source": [
        ""
      ],
      "id": "5c76ec1f",
      "execution_count": null,
      "outputs": []
    },
    {
      "cell_type": "markdown",
      "metadata": {
        "id": "f8cd1cc3"
      },
      "source": [
        "## 포브스 여행지 : Top 50 Best Places To Visit Post-Pandemic\n",
        "- https://www.forbes.com/advisor/travel-rewards/top-50-best-places-to-visit/"
      ],
      "id": "f8cd1cc3"
    },
    {
      "cell_type": "code",
      "metadata": {
        "id": "19fd7519"
      },
      "source": [
        ""
      ],
      "id": "19fd7519",
      "execution_count": null,
      "outputs": []
    },
    {
      "cell_type": "markdown",
      "metadata": {
        "id": "c1aa6c96"
      },
      "source": [
        "###  결과\n",
        "```\n",
        "['Alentejo, Portugal',\n",
        " 'Algeria',\n",
        " 'Alta, Norway',\n",
        " 'Antigua, Guatemala',\n",
        " 'Arkansas’ Ozarks',\n",
        " 'Assam, India',\n",
        " 'Ayutthaya, Thailand',\n",
        " 'Bhutan',\n",
        " 'Bristol, England',\n",
        " 'British Virgin Islands',\n",
        " 'Cairo, Egypt',\n",
        " 'Canadian High Arctic',\n",
        " 'Canary Islands',\n",
        " 'Cappadocia, Turkey',\n",
        " 'Colchagua Valley, Chile',\n",
        " 'Doha, Qatar',\n",
        " 'Dominica',\n",
        " 'Eastern Shore, Virginia',\n",
        " 'Galapagos Islands, Ecuador',\n",
        " 'Gaspé, Québec',\n",
        " 'Gdańsk, Poland',\n",
        " 'Ghana',\n",
        " 'Great Barrier Reef, Australia',\n",
        " 'Guyana',\n",
        " 'Harbin, China',\n",
        " 'Istria, Croatia',\n",
        " 'Jujuy, Argentina',\n",
        " 'Luxembourg',\n",
        " 'Kenya',\n",
        " 'Lombok, Indonesia',\n",
        " 'Makgadikgadi Pans, Botswana',\n",
        " 'Milos, Greece',\n",
        " 'Moab, Utah',\n",
        " 'Oruro, Bolivia',\n",
        " 'Puebla, Mexico',\n",
        " 'Queenstown, New Zealand',\n",
        " 'Saipan',\n",
        " 'Salento, Colombia',\n",
        " 'Samoa',\n",
        " 'Sayulita, Mexico',\n",
        " 'Sydney, Australia',\n",
        " 'Taipei, Taiwan',\n",
        " 'Telluride, Colorado',\n",
        " 'Tufi, Papua New Guinea',\n",
        " 'Uganda',\n",
        " 'Uruguay',\n",
        " 'Uzbekistan',\n",
        " 'Valdez, Alaska',\n",
        " 'Waiheke Island, New Zealand',\n",
        " 'Walt Disney World, Florida']\n",
        "```"
      ],
      "id": "c1aa6c96"
    },
    {
      "cell_type": "code",
      "metadata": {
        "id": "d273423d"
      },
      "source": [
        ""
      ],
      "id": "d273423d",
      "execution_count": null,
      "outputs": []
    }
  ]
}