{
 "cells": [
  {
   "cell_type": "markdown",
   "id": "c6658a7d",
   "metadata": {},
   "source": [
    "for/if 구문을 이용해 문자 확인하기"
   ]
  },
  {
   "cell_type": "code",
   "execution_count": 1,
   "id": "b208a67e",
   "metadata": {},
   "outputs": [
    {
     "name": "stdout",
     "output_type": "stream",
     "text": [
      "5050\n"
     ]
    }
   ],
   "source": [
    "# 1 ~ 100 까지의 합계 계산\n",
    "\n",
    "tot = 0\n",
    "\n",
    "for n in range(101):\n",
    "\n",
    "      tot = tot + n            #  = tot + n\n",
    "\n",
    "print(tot)"
   ]
  },
  {
   "cell_type": "code",
   "execution_count": 7,
   "id": "21a5c155",
   "metadata": {},
   "outputs": [
    {
     "name": "stdout",
     "output_type": "stream",
     "text": [
      "스페이스바 입력 갯수: 8 건\n"
     ]
    }
   ],
   "source": [
    "# 스페이스바 입력 건 구하기\n",
    "\n",
    "text='코로나19 탓에 손도 열심히 씻고, 마스크를 착용하고, 외출도 줄었다.'\n",
    "\n",
    "cnt=0\n",
    "\n",
    "\n",
    "for t in text:                            # t에 문자 1개가 입력\n",
    "\n",
    "    if t == \" \" :\n",
    "\n",
    "     cnt = cnt + 1\n",
    "\n",
    "print(f'스페이스바 입력 갯수: {cnt} 건') "
   ]
  },
  {
   "cell_type": "code",
   "execution_count": 8,
   "id": "4316da84",
   "metadata": {},
   "outputs": [
    {
     "name": "stdout",
     "output_type": "stream",
     "text": [
      "스페이스바 입력 갯수: 8 건\n"
     ]
    }
   ],
   "source": [
    "text='코로나19 탓에 손도 열심히 씻고, 마스크를 착용하고, 외출도 줄었다.'\n",
    "\n",
    "cnt=0\n",
    "\n",
    "for t in range(len(text)): # t에 인덱싱 값 입력\n",
    "\n",
    "      if text[t] == \" \" :\n",
    "\n",
    "          cnt = cnt + 1\n",
    "\n",
    "\n",
    "print(f'스페이스바 입력 갯수: {cnt} 건')"
   ]
  },
  {
   "cell_type": "code",
   "execution_count": 11,
   "id": "a7a0e9be",
   "metadata": {},
   "outputs": [
    {
     "name": "stdout",
     "output_type": "stream",
     "text": [
      "좋아 글자 갯수: 7 건\n"
     ]
    }
   ],
   "source": [
    "# text 에 있는 '좋아' 라는 단어는 몆번 나올까요?  \n",
    "\n",
    " # for문과 if 구문을 사용해 작성\n",
    "\n",
    "text='바나나 좋아, 딸기 좋아 사과좋아 좋오아 좋아요 귤은 너무너무 좋아좋아좋아...'\n",
    "\n",
    "cnt=0\n",
    "\n",
    "for i in range(len(text)):\n",
    "\n",
    "       if text[i] == \"좋\":\n",
    "\n",
    "           if text[i+1] == \"아\":\n",
    "\n",
    "               cnt += 1\n",
    "\n",
    "print(f'좋아 글자 갯수: {cnt} 건')"
   ]
  },
  {
   "cell_type": "code",
   "execution_count": 12,
   "id": "356022c5",
   "metadata": {},
   "outputs": [
    {
     "name": "stdout",
     "output_type": "stream",
     "text": [
      "'좋아'의 갯수는 7개 입니다.\n"
     ]
    }
   ],
   "source": [
    "# text 에 있는 '좋아' 라는 단어는 몆번 나올까요? \n",
    "# for문과 if 구문을 1회 사용해 작성\n",
    "\n",
    "txt='바나나 좋아, 딸기 좋아 사과좋아 좋오아 좋아요 귤은 너무너무 좋아좋아좋아...'\n",
    "\n",
    "cnt=0\n",
    "\n",
    "for t in range(len(txt)-1):\n",
    "\n",
    "      if txt[t]+txt[t+1] == '좋아':\n",
    "\n",
    "         cnt = cnt+1\n",
    "\n",
    "print(f\"'좋아'의 갯수는 {cnt}개 입니다.\")"
   ]
  },
  {
   "cell_type": "code",
   "execution_count": 14,
   "id": "f51ae5cf",
   "metadata": {},
   "outputs": [
    {
     "name": "stdout",
     "output_type": "stream",
     "text": [
      "7\n"
     ]
    }
   ],
   "source": [
    "txt='바나나 좋아, 딸기 좋아 사과좋아 좋오아 좋아요 귤은 너무너무 좋아좋아좋아...'\n",
    "\n",
    "cnt=0\n",
    "\n",
    "tmp=''\n",
    "\n",
    "for t in txt:\n",
    "\n",
    "          tmp = tmp + t\n",
    "\n",
    "          if tmp[-2:] == '좋아':\n",
    "\n",
    "              cnt = cnt+1\n",
    "\n",
    "              tmp = ''\n",
    "\n",
    "print(cnt)"
   ]
  },
  {
   "cell_type": "code",
   "execution_count": 17,
   "id": "f811a997",
   "metadata": {},
   "outputs": [
    {
     "name": "stdout",
     "output_type": "stream",
     "text": [
      "'좋아'의 갯수는 7개 입니다.\n",
      "['바나', '나나', '나 ', ' 좋', '좋아', '아,', ', ', ' 딸', '딸기', '기 ', ' 좋', '좋아', '아 ', ' 사', '사과', '과좋', '좋아', '아 ', ' 좋', '좋오', '오아', '아 ', ' 좋', '좋아', '아요', '요 ', ' 귤', '귤은', '은 ', ' 너', '너무', '무너', '너무', '무 ', ' 좋', '좋아', '아좋', '좋아', '아좋', '좋아', '아.', '..', '..']\n"
     ]
    }
   ],
   "source": [
    "txt='바나나 좋아, 딸기 좋아 사과좋아 좋오아 좋아요 귤은 너무너무 좋아좋아좋아...'\n",
    "\n",
    "cnt=0\n",
    "\n",
    "txt_lst=[]\n",
    "\n",
    "for i in range(len(txt)-1):\n",
    "\n",
    "      txt_lst.append(txt[i:i+2])\n",
    "\n",
    "      if txt[i:i+2] == \"좋아\":\n",
    "    \n",
    "         cnt=cnt+1\n",
    "\n",
    "print(f\"'좋아'의 갯수는 {cnt}개 입니다.\") \n",
    "\n",
    "print(txt_lst)"
   ]
  },
  {
   "cell_type": "code",
   "execution_count": 23,
   "id": "8c805328",
   "metadata": {},
   "outputs": [
    {
     "name": "stdout",
     "output_type": "stream",
     "text": [
      "찾을 단어 입력: 좋아\n",
      "좋아 단어 갯수: 7개\n"
     ]
    }
   ],
   "source": [
    "# 사용자로부터 단어를 입력받아 해당 단어의 갯수 확인하기\n",
    "\n",
    "txt='바나나 좋아, 딸기 좋아 사과좋아 좋오아 좋아요 귤은 너무너무 좋아좋아좋아...'\n",
    "\n",
    "입력단어 = input(\"찾을 단어 입력: \")\n",
    "\n",
    "글자수 = len(입력단어)\n",
    "\n",
    "cnt=0\n",
    "\n",
    "for i in range(len(txt)-(글자수-1)):\n",
    "\n",
    "      if txt[i:i+글자수] == 입력단어:\n",
    "\n",
    "            cnt+=1\n",
    "\n",
    "print(f'{입력단어} 단어 갯수: {cnt}개')"
   ]
  },
  {
   "cell_type": "code",
   "execution_count": null,
   "id": "4a9da2ea",
   "metadata": {},
   "outputs": [],
   "source": []
  },
  {
   "cell_type": "code",
   "execution_count": null,
   "id": "3a151929",
   "metadata": {},
   "outputs": [],
   "source": []
  }
 ],
 "metadata": {
  "kernelspec": {
   "display_name": "Python 3 (ipykernel)",
   "language": "python",
   "name": "python3"
  },
  "language_info": {
   "codemirror_mode": {
    "name": "ipython",
    "version": 3
   },
   "file_extension": ".py",
   "mimetype": "text/x-python",
   "name": "python",
   "nbconvert_exporter": "python",
   "pygments_lexer": "ipython3",
   "version": "3.9.5"
  }
 },
 "nbformat": 4,
 "nbformat_minor": 5
}
