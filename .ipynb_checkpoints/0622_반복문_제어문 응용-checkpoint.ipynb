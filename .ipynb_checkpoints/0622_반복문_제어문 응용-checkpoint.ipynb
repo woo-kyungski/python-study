{
 "cells": [
  {
   "cell_type": "markdown",
   "id": "e1bc01fa",
   "metadata": {},
   "source": [
    "PiLLOW 설치: jupyter=> !pip install Pillow, 프롬프트: conda install Pillow / pip install Pillow\n",
    "\n",
    "import를 이용한 모듈 연결\n",
    "\n",
    "필요한 메소드(함수/명령어)를 이용해 작업수행"
   ]
  },
  {
   "cell_type": "code",
   "execution_count": 1,
   "id": "13f7890c",
   "metadata": {},
   "outputs": [],
   "source": [
    "from PIL import Image\n",
    "import pandas as pd"
   ]
  },
  {
   "cell_type": "code",
   "execution_count": 23,
   "id": "c6cb1586",
   "metadata": {},
   "outputs": [
    {
     "name": "stdout",
     "output_type": "stream",
     "text": [
      "===== End =====\n",
      "[['pic1.jpg', 'PNG', 512, 271], ['pic2.jpg', 'JPEG', 630, 338], ['pic3.jpg', 'JPEG', 275, 183]]\n"
     ]
    },
    {
     "data": {
      "text/html": [
       "<div>\n",
       "<style scoped>\n",
       "    .dataframe tbody tr th:only-of-type {\n",
       "        vertical-align: middle;\n",
       "    }\n",
       "\n",
       "    .dataframe tbody tr th {\n",
       "        vertical-align: top;\n",
       "    }\n",
       "\n",
       "    .dataframe thead th {\n",
       "        text-align: right;\n",
       "    }\n",
       "</style>\n",
       "<table border=\"1\" class=\"dataframe\">\n",
       "  <thead>\n",
       "    <tr style=\"text-align: right;\">\n",
       "      <th></th>\n",
       "      <th>파일명</th>\n",
       "      <th>형식</th>\n",
       "      <th>너비</th>\n",
       "      <th>높이</th>\n",
       "    </tr>\n",
       "  </thead>\n",
       "  <tbody>\n",
       "    <tr>\n",
       "      <th>0</th>\n",
       "      <td>pic1.jpg</td>\n",
       "      <td>PNG</td>\n",
       "      <td>512</td>\n",
       "      <td>271</td>\n",
       "    </tr>\n",
       "    <tr>\n",
       "      <th>1</th>\n",
       "      <td>pic2.jpg</td>\n",
       "      <td>JPEG</td>\n",
       "      <td>630</td>\n",
       "      <td>338</td>\n",
       "    </tr>\n",
       "    <tr>\n",
       "      <th>2</th>\n",
       "      <td>pic3.jpg</td>\n",
       "      <td>JPEG</td>\n",
       "      <td>275</td>\n",
       "      <td>183</td>\n",
       "    </tr>\n",
       "  </tbody>\n",
       "</table>\n",
       "</div>"
      ],
      "text/plain": [
       "        파일명    형식   너비   높이\n",
       "0  pic1.jpg   PNG  512  271\n",
       "1  pic2.jpg  JPEG  630  338\n",
       "2  pic3.jpg  JPEG  275  183"
      ]
     },
     "metadata": {},
     "output_type": "display_data"
    },
    {
     "name": "stdout",
     "output_type": "stream",
     "text": [
      "        파일명    형식   너비   높이\n",
      "0  pic1.jpg   PNG  512  271\n",
      "1  pic2.jpg  JPEG  630  338\n",
      "2  pic3.jpg  JPEG  275  183\n"
     ]
    }
   ],
   "source": [
    "fileName=[\"pic1\", \"pic2\", \"pic3\"]\n",
    "\n",
    "prnData=[] # 리스트 자료형 변수 생성\n",
    "\n",
    "\n",
    "for fn in fileName:\n",
    "\n",
    " tmp=Image.open('./picture/' + fn + '.jpg')   # 그림 파일 열기\n",
    " fName = fn +'.jpg'                                       # 파일명 생성\n",
    " fm = tmp.format                                         # 파일 형식\n",
    " fw = tmp.width                                          # 그림 너비\n",
    " fh = tmp.height                                         # 그림 높이\n",
    " prnData.append([fName, fm, fw, fh])        # prnData 리스트 변수에 데이터 추가\n",
    " tmpRes = tmp.resize((300, 300))            # 이미지 사이즈 변경\n",
    " tmpRes.save('./data/' + fn + \"_300.jpg\")\n",
    "\n",
    "                        \n",
    "print(\"===== End =====\")\n",
    "\n",
    "print(prnData)\n",
    "\n",
    "df = pd.DataFrame(prnData, columns=[\"파일명\", \"형식\", \"너비\", \"높이\"])\n",
    "\n",
    "df.to_csv('./파일정보.csv', encoding=\"cp949\")\n",
    "\n",
    "display(df)\n",
    "\n",
    "print(df)\n",
    "\n",
    "\n"
   ]
  },
  {
   "cell_type": "code",
   "execution_count": null,
   "id": "d40ac4b1",
   "metadata": {},
   "outputs": [],
   "source": []
  },
  {
   "cell_type": "code",
   "execution_count": null,
   "id": "11bb475c",
   "metadata": {},
   "outputs": [],
   "source": []
  },
  {
   "cell_type": "code",
   "execution_count": null,
   "id": "4b91bfbd",
   "metadata": {},
   "outputs": [],
   "source": []
  },
  {
   "cell_type": "code",
   "execution_count": null,
   "id": "698fd1ca",
   "metadata": {},
   "outputs": [],
   "source": []
  },
  {
   "cell_type": "code",
   "execution_count": null,
   "id": "5b025e48",
   "metadata": {},
   "outputs": [],
   "source": []
  },
  {
   "cell_type": "code",
   "execution_count": null,
   "id": "aadbbc7b",
   "metadata": {},
   "outputs": [],
   "source": []
  },
  {
   "cell_type": "code",
   "execution_count": null,
   "id": "da64fc0f",
   "metadata": {},
   "outputs": [],
   "source": []
  }
 ],
 "metadata": {
  "kernelspec": {
   "display_name": "Python 3 (ipykernel)",
   "language": "python",
   "name": "python3"
  },
  "language_info": {
   "codemirror_mode": {
    "name": "ipython",
    "version": 3
   },
   "file_extension": ".py",
   "mimetype": "text/x-python",
   "name": "python",
   "nbconvert_exporter": "python",
   "pygments_lexer": "ipython3",
   "version": "3.9.5"
  }
 },
 "nbformat": 4,
 "nbformat_minor": 5
}
