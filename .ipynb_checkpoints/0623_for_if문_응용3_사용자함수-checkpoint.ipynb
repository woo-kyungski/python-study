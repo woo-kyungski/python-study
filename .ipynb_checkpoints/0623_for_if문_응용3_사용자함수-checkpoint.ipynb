{
 "cells": [
  {
   "cell_type": "markdown",
   "id": "cbc944c8",
   "metadata": {},
   "source": [
    "# 사용자 함수"
   ]
  },
  {
   "cell_type": "markdown",
   "id": "182ed997",
   "metadata": {},
   "source": [
    "def 로 시작한다.\n",
    "\n",
    "기본형식: def 함수명(인수, ..):\n",
    "\n",
    "사용자 함수=> 실행형/return형\n",
    "\n",
    "함수호출: 함수명(인수 대입값, ..)\n",
    "\n",
    "함수는 함수를 호출하는 코드 이전에 실행되어야 함"
   ]
  },
  {
   "cell_type": "code",
   "execution_count": 34,
   "id": "8114a4d5",
   "metadata": {},
   "outputs": [],
   "source": [
    "# 실행형: 이름을 입력받아 출력해주는 함수\n",
    "# 문자가 아닌 다른 형태의 자료 입력시 메세지 전달\n",
    "\n",
    "def txt_print(name):\n",
    "    \n",
    "    if type(name) == str :\n",
    "            print(f'{name}님, 안녕하세요.')\n",
    "            \n",
    "    else :\n",
    "        print(f'문자만 출력 가능합니다.')"
   ]
  },
  {
   "cell_type": "code",
   "execution_count": 35,
   "id": "28adf327",
   "metadata": {},
   "outputs": [
    {
     "name": "stdout",
     "output_type": "stream",
     "text": [
      "문자만 출력 가능합니다.\n"
     ]
    }
   ],
   "source": [
    "txt_print(123)"
   ]
  },
  {
   "cell_type": "code",
   "execution_count": 36,
   "id": "35d90a8d",
   "metadata": {},
   "outputs": [],
   "source": [
    "# 리턴형: 텍스트와 단어 입력후 텍스트에 포함된 단어의 개수를 계산 후 전달\n",
    "\n",
    "def txt_count(txt, tsc):\n",
    "    txtLen=len(tsc)    # txt에서 찾고자 하는 단어의 글자수\n",
    "    cnt=0\n",
    "    \n",
    "    for i in range(len(txt)-(txtLen-1)):\n",
    "        if txt[i:i+txtLen] == tsc:\n",
    "            cnt=cnt+1\n",
    "            \n",
    "    return cnt"
   ]
  },
  {
   "cell_type": "code",
   "execution_count": 32,
   "id": "bebc3c04",
   "metadata": {},
   "outputs": [
    {
     "name": "stdout",
     "output_type": "stream",
     "text": [
      "찾을 단어 입력: 사육\n",
      "사육 개수: 1개\n"
     ]
    }
   ],
   "source": [
    "txt='''식물성 음식만 먹는 채식주의를 선호하는 사람들이 늘고 있다.\n",
    "채식이 건강에 좋다고 생각해서 이를 실천하는 사람들도 있지만, \n",
    "동물권을 존중해서 혹은 가축 사육으로 인한 환경 파괴 등의 문제로 채식을 하는 사람들도 있다.'''\n",
    "\n",
    "단어=input('찾을 단어 입력: ')\n",
    "\n",
    "txtcnt=txt_count(txt, 단어)\n",
    "print(f'{단어} 개수: {txtcnt}개')"
   ]
  },
  {
   "cell_type": "markdown",
   "id": "b7153327",
   "metadata": {},
   "source": [
    "# 사용자 정의 함수"
   ]
  },
  {
   "cell_type": "markdown",
   "id": "8caf12fd",
   "metadata": {},
   "source": [
    "입력값을 가지고 어떤 일을 수행한 다음에 그 결과물을 내어놓는 것, 이것이 바로 함수가 하는 일이다."
   ]
  },
  {
   "cell_type": "markdown",
   "id": "df8f7f49",
   "metadata": {},
   "source": [
    "## 입력받은 문자열을 스페이스바를 기준으로 문자 나누기"
   ]
  },
  {
   "cell_type": "markdown",
   "id": "b0eb11b5",
   "metadata": {},
   "source": [
    "나눈 결과물은 리스트형 데이터로 제공\n",
    "\n",
    "이스케이프 문자(\\n)는 제거"
   ]
  },
  {
   "cell_type": "code",
   "execution_count": 41,
   "id": "143561fe",
   "metadata": {},
   "outputs": [
    {
     "data": {
      "text/plain": [
       "'\\n/n 줄 바꿈\\n/t 가로 탭: 네 칸 정도 띄움\\n/b 백스페이스: 한 칸 지움\\n/r 캐리지리턴: 한 줄 지움\\n/a 경고벨: 삐 소리가 남\\n/\\' 작은 따옴표 출력\\n/\" 큰 따옴표 출력\\n// 백 슬래시 출력\\n/? 물음표 출력\\n'"
      ]
     },
     "execution_count": 41,
     "metadata": {},
     "output_type": "execute_result"
    }
   ],
   "source": [
    "'''\n",
    "/n 줄 바꿈\n",
    "/t 가로 탭: 네 칸 정도 띄움\n",
    "/b 백스페이스: 한 칸 지움\n",
    "/r 캐리지리턴: 한 줄 지움\n",
    "/a 경고벨: 삐 소리가 남\n",
    "/' 작은 따옴표 출력\n",
    "/\" 큰 따옴표 출력\n",
    "// 백 슬래시 출력\n",
    "/? 물음표 출력\n",
    "'''"
   ]
  },
  {
   "cell_type": "code",
   "execution_count": 42,
   "id": "e50c18c5",
   "metadata": {},
   "outputs": [],
   "source": [
    "# 입력받은 텍스트에 대하여 스페이스바 또는 사용자 입력 텍스트 기준으로 텍스트 나누기\n",
    "# 설명을 위해 변수는 한글로 작성\n",
    "\n",
    "def User_split(txt, spl=\" \"):\n",
    "    나누는단어=spl\n",
    "    리스트형_변수=[]\n",
    "    단어_변수=\"\"\n",
    "    글자수=len(나누는단어)\n",
    "\n",
    "    txt=txt.replace('\\n', ',')\n",
    "\n",
    "    for 순번 in range(len(txt)-(글자수-1)):\n",
    "        if txt[순번:순번+글자수] != 나누는단어:\n",
    "            단어_변수 = 단어_변수 + txt[순번]\n",
    "        else:\n",
    "            리스트형_변수.append(단어_변수)\n",
    "            단어_변수=\"\"\n",
    "\n",
    "    if 단어_변수!=\"\":\n",
    "        리스트형_변수.append(단어_변수)\n",
    "\n",
    "    return 리스트형_변수"
   ]
  },
  {
   "cell_type": "code",
   "execution_count": 43,
   "id": "ca6f4876",
   "metadata": {},
   "outputs": [
    {
     "name": "stdout",
     "output_type": "stream",
     "text": [
      "['', '식물성 음식만 먹는 채식주의를', ' 선호하는 사람들이 늘고 있다.', '채식이 건강에', ' 좋다고 생각해서 이를 실천하는 사람들도 있지만', '', '동물권을 존중해서', ' 혹은 가축 사육으로', ' 인한 환경 파괴 등의', ' 문제로 채식을 하는 사람들도 있다.']\n"
     ]
    }
   ],
   "source": [
    "txt='''\n",
    "식물성 음식만 먹는 채식주의를, 선호하는 사람들이 늘고 있다.\n",
    "채식이 건강에, 좋다고 생각해서 이를 실천하는 사람들도 있지만,\n",
    "동물권을 존중해서, 혹은 가축 사육으로, 인한 환경 파괴 등의, 문제로 채식을 하는 사람들도 있다.\n",
    "'''\n",
    "\n",
    "txt_lst=User_split(txt,\",\")\n",
    "print(txt_lst)"
   ]
  },
  {
   "cell_type": "code",
   "execution_count": 44,
   "id": "bd715996",
   "metadata": {},
   "outputs": [
    {
     "name": "stdout",
     "output_type": "stream",
     "text": [
      "숫자 입력: 5\n",
      "True\n",
      "False\n"
     ]
    }
   ],
   "source": [
    "lstData=[1,2,3,1,2,1,2,5,4,2,6,8,9,2,5,4,2,5,3,6,9,7]\n",
    "\n",
    "num=int(input('숫자 입력: '))\n",
    "\n",
    "print(num in lstData)   # a in 데이터  => a가 데이터 값들 안에 있다(True)/없다(False)를 찾아주는 연산자\n",
    "print(num not in lstData)"
   ]
  },
  {
   "cell_type": "code",
   "execution_count": 45,
   "id": "de81282d",
   "metadata": {},
   "outputs": [
    {
     "name": "stdout",
     "output_type": "stream",
     "text": [
      "[1, 2, 3, 5, 4, 6, 8, 9, 7]\n"
     ]
    }
   ],
   "source": [
    "# 고유값 찾아 리스트형로 출력하기\n",
    "\n",
    "lstData=[1,2,3,1,2,1,2,5,4,2,6,8,9,2,5,4,2,5,3,6,9,7]\n",
    "lstPrn=[]   # 고유 데이터 저장 변수 생성\n",
    "\n",
    "for num in lstData:\n",
    "    if num in lstPrn:\n",
    "        continue\n",
    "    else:\n",
    "        lstPrn.append(num)\n",
    "        \n",
    "print(lstPrn)"
   ]
  },
  {
   "cell_type": "markdown",
   "id": "453c57d7",
   "metadata": {},
   "source": [
    "# 고유값 찾아 리스트형로 출력하기"
   ]
  },
  {
   "cell_type": "markdown",
   "id": "379180f1",
   "metadata": {},
   "source": [
    "lstPrn에 데이터가 없으면 무조거 데이터 추가\n",
    "\n",
    "lstPrn에 입력된 데이터가 있다면 처음부터 현재 가져온 데이터가 있는지 확인\n",
    "\n",
    "데이터가 있는 경우 종료하고 다음 데이터로 이동\n",
    "\n",
    "끝까지 확인하였을때 없다면 lstPrn에 현재 가져온 데이터 추가 하고 다음 데이터로 이동"
   ]
  },
  {
   "cell_type": "code",
   "execution_count": 46,
   "id": "e6caa442",
   "metadata": {},
   "outputs": [
    {
     "name": "stdout",
     "output_type": "stream",
     "text": [
      "[1, 2, 3, 5, 4, 6, 8, 9, 7]\n"
     ]
    }
   ],
   "source": [
    "lstData=[1,2,3,1,2,1,2,5,4,2,6,8,9,2,5,4,2,5,3,6,9,7]\n",
    "lstPrn=[]   # 고유 데이터 저장 변수 생성\n",
    "\n",
    "for num in lstData:\n",
    "    if len(lstPrn)==0:\n",
    "        lstPrn.append(num)\n",
    "        continue     # 다음 데이터로 이동\n",
    "    \n",
    "    cnt=0\n",
    "    for pr in lstPrn:\n",
    "        if num == pr:\n",
    "            cnt=cnt+1\n",
    "            break   # 현재 진행중인 반복문을 벗어난다.\n",
    "            \n",
    "    if cnt == 0:\n",
    "        lstPrn.append(num)\n",
    "\n",
    "print(lstPrn)\n",
    "\n",
    "del cnt"
   ]
  },
  {
   "cell_type": "code",
   "execution_count": 47,
   "id": "dc47a11c",
   "metadata": {},
   "outputs": [
    {
     "name": "stdout",
     "output_type": "stream",
     "text": [
      "[1, 2, 3, 5, 4, 6, 8, 9, 7]\n"
     ]
    }
   ],
   "source": [
    "lstData=[1,2,3,1,2,1,2,5,4,2,6,8,9,2,5,4,2,5,3,6,9,7]\n",
    "lstPrn=[]   # 고유 데이터 저장 변수 생성\n",
    "\n",
    "for num in lstData:\n",
    "    if len(lstPrn)==0:\n",
    "        lstPrn.append(num)\n",
    "        continue     # 다음 데이터로 이동\n",
    "    \n",
    "    for i in range(len(lstPrn)):\n",
    "        if num == lstPrn[i]:\n",
    "             break   # 현재 진행중인 반복문을 벗어난다.\n",
    "                \n",
    "        if i == len(lstPrn)-1:\n",
    "            lstPrn.append(num)\n",
    "\n",
    "print(lstPrn)"
   ]
  },
  {
   "cell_type": "markdown",
   "id": "7ae72a98",
   "metadata": {},
   "source": [
    "# 번호 생성기"
   ]
  },
  {
   "cell_type": "markdown",
   "id": "dbb2141e",
   "metadata": {},
   "source": [
    "번호: 1 ~ 45 사이값 생성\n",
    "\n",
    "번호가 생성된 번호를 이용해 동일하지 않은 번호 5개 만들기\n",
    "\n",
    "번호가 있으면 다시 발생, 없으면 추가\n",
    "\n",
    "서로 다른 번호 5개가 생성되면 종료 후 5개의 번호 출력\n",
    "\n",
    "in / not in 연산자 / for / if"
   ]
  },
  {
   "cell_type": "code",
   "execution_count": 48,
   "id": "68bca7f3",
   "metadata": {},
   "outputs": [
    {
     "data": {
      "text/plain": [
       "31"
      ]
     },
     "execution_count": 48,
     "metadata": {},
     "output_type": "execute_result"
    }
   ],
   "source": [
    "import numpy as np\n",
    "np.random.randint(1, 46)  # 1 ~ 45사이의 정수를 랜덤하게 1개 발생"
   ]
  },
  {
   "cell_type": "code",
   "execution_count": 49,
   "id": "b44d2751",
   "metadata": {},
   "outputs": [
    {
     "name": "stdout",
     "output_type": "stream",
     "text": [
      "주번호:[9, 36, 34, 17, 18, 5], 보너스:15\n"
     ]
    }
   ],
   "source": [
    "lstNum=[]\n",
    "notNum=[7, 4, 11, 33, 44]\n",
    "\n",
    "for i in range(100):\n",
    "    num=np.random.randint(1, 46)\n",
    "    if num not in lstNum:\n",
    "        if num in notNum:\n",
    "            continue\n",
    "        else:\n",
    "            lstNum.append(num)\n",
    "            \n",
    "        if len(lstNum) == 7:\n",
    "            break\n",
    "\n",
    "print(f'주번호:{lstNum[:-1]}, 보너스:{lstNum[-1]}')"
   ]
  },
  {
   "cell_type": "code",
   "execution_count": null,
   "id": "e27c4924",
   "metadata": {},
   "outputs": [],
   "source": []
  }
 ],
 "metadata": {
  "kernelspec": {
   "display_name": "Python 3 (ipykernel)",
   "language": "python",
   "name": "python3"
  },
  "language_info": {
   "codemirror_mode": {
    "name": "ipython",
    "version": 3
   },
   "file_extension": ".py",
   "mimetype": "text/x-python",
   "name": "python",
   "nbconvert_exporter": "python",
   "pygments_lexer": "ipython3",
   "version": "3.9.5"
  }
 },
 "nbformat": 4,
 "nbformat_minor": 5
}
