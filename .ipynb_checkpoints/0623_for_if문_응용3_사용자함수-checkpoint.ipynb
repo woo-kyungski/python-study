{
 "cells": [
  {
   "cell_type": "markdown",
   "id": "f2b5b374",
   "metadata": {},
   "source": [
    "사용자 함수\n",
    "\n",
    "def 로 시작한다.\n",
    "\n",
    "기본형식: def 함수명(인수, ..):\n",
    "\n",
    "사용자 함수=> 실행형/return형\n",
    "\n",
    "함수호출: 함수명(인수 대입값, ..)\n",
    "\n",
    "함수는 함수를 호출하는 코드 이전에 실행되어야 함"
   ]
  },
  {
   "cell_type": "code",
   "execution_count": 20,
   "id": "7c4c279b",
   "metadata": {},
   "outputs": [],
   "source": [
    "# 실행형: 이름을 입력받아 출력해주는 함수\n",
    "# 문자가 아닌 다른 형태의 자료 입력시 메세지 전달\n",
    "\n",
    "def txt_print(name):\n",
    "    \n",
    "    if type(name) == str :\n",
    "            print(f'{name}님, 안녕하세요.')\n",
    "            \n",
    "    else :\n",
    "        print(f'문자만 출력 가능합니다.')"
   ]
  },
  {
   "cell_type": "code",
   "execution_count": 33,
   "id": "16fa394c",
   "metadata": {},
   "outputs": [],
   "source": [
    "# 리턴형: 텍스트와 단어 입력후 텍스트에 포함된 단어의 개수를 계산 후 전달\n",
    "\n",
    "def txt_count(txt, tsc):\n",
    "    txtLen=len(tsc)    # txt에서 찾고자 하는 단어의 글자수\n",
    "    cnt=0\n",
    "    \n",
    "    for i in range(len(txt)-(txtLen-1)):\n",
    "        if txt[i:i+txtLen] == tsc:\n",
    "            cnt=cnt+1\n",
    "            \n",
    "    return cnt"
   ]
  },
  {
   "cell_type": "code",
   "execution_count": 31,
   "id": "2fc2ef9e",
   "metadata": {},
   "outputs": [
    {
     "name": "stdout",
     "output_type": "stream",
     "text": [
      "문자만 출력 가능합니다.\n"
     ]
    }
   ],
   "source": [
    "txt_print(123)"
   ]
  },
  {
   "cell_type": "code",
   "execution_count": 32,
   "id": "9ed749ff",
   "metadata": {},
   "outputs": [
    {
     "name": "stdout",
     "output_type": "stream",
     "text": [
      "찾을 단어 입력: 사육\n",
      "사육 개수: 1개\n"
     ]
    }
   ],
   "source": [
    "txt='''식물성 음식만 먹는 채식주의를 선호하는 사람들이 늘고 있다.\n",
    "채식이 건강에 좋다고 생각해서 이를 실천하는 사람들도 있지만, \n",
    "동물권을 존중해서 혹은 가축 사육으로 인한 환경 파괴 등의 문제로 채식을 하는 사람들도 있다.'''\n",
    "\n",
    "단어=input('찾을 단어 입력: ')\n",
    "\n",
    "txtcnt=txt_count(txt, 단어)\n",
    "print(f'{단어} 개수: {txtcnt}개')"
   ]
  },
  {
   "cell_type": "markdown",
   "id": "2dd41d29",
   "metadata": {},
   "source": [
    "사용자 정의 함수\n",
    "입력값을 가지고 어떤 일을 수행한 다음에 그 결과물을 내어놓는 것, 이것이 바로 함수가 하는 일이다."
   ]
  },
  {
   "cell_type": "code",
   "execution_count": null,
   "id": "41e6da1c",
   "metadata": {},
   "outputs": [],
   "source": []
  },
  {
   "cell_type": "code",
   "execution_count": null,
   "id": "f5e8d905",
   "metadata": {},
   "outputs": [],
   "source": []
  },
  {
   "cell_type": "code",
   "execution_count": null,
   "id": "9bf2f8a1",
   "metadata": {},
   "outputs": [],
   "source": []
  },
  {
   "cell_type": "code",
   "execution_count": null,
   "id": "0f17fac4",
   "metadata": {},
   "outputs": [],
   "source": []
  },
  {
   "cell_type": "code",
   "execution_count": null,
   "id": "04e4d981",
   "metadata": {},
   "outputs": [],
   "source": []
  },
  {
   "cell_type": "code",
   "execution_count": null,
   "id": "e8eebf86",
   "metadata": {},
   "outputs": [],
   "source": []
  },
  {
   "cell_type": "code",
   "execution_count": null,
   "id": "7a661f78",
   "metadata": {},
   "outputs": [],
   "source": []
  }
 ],
 "metadata": {
  "kernelspec": {
   "display_name": "Python 3 (ipykernel)",
   "language": "python",
   "name": "python3"
  },
  "language_info": {
   "codemirror_mode": {
    "name": "ipython",
    "version": 3
   },
   "file_extension": ".py",
   "mimetype": "text/x-python",
   "name": "python",
   "nbconvert_exporter": "python",
   "pygments_lexer": "ipython3",
   "version": "3.9.5"
  }
 },
 "nbformat": 4,
 "nbformat_minor": 5
}
