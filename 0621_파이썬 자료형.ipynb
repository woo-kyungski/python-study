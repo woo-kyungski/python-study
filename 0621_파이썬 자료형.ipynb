{
 "cells": [
  {
   "cell_type": "markdown",
   "id": "52d37890",
   "metadata": {},
   "source": [
    "# 모듈 설치 및 연결\n",
    "\n",
    "프롬프트에서 conda install 모듈명/pip install 모듈명 설치(내 가상환경 설치)\n",
    "\n",
    "모듈연결: import 모듈명 as 별명"
   ]
  },
  {
   "cell_type": "code",
   "execution_count": 1,
   "id": "be3735e4",
   "metadata": {},
   "outputs": [
    {
     "name": "stdout",
     "output_type": "stream",
     "text": [
      "Requirement already satisfied: pillow in c:\\users\\wooky\\.conda\\envs\\multi\\lib\\site-packages (8.2.0)\n"
     ]
    }
   ],
   "source": [
    "!pip install pillow"
   ]
  },
  {
   "cell_type": "code",
   "execution_count": 7,
   "id": "c2cd2a3f",
   "metadata": {},
   "outputs": [
    {
     "name": "stdout",
     "output_type": "stream",
     "text": [
      "(512, 271)\n"
     ]
    }
   ],
   "source": [
    "from PIL import Image \n",
    "tmp=Image.open('C:/Users/wooky/Desktop/회사원/취업지원센터/내일배움카드/빅데이터 기반 지능형 서비스 개발/pycode/0621 파이썬 구조 및 자료형\\data/pic1.jpg') \n",
    "print(tmp.size)"
   ]
  },
  {
   "cell_type": "code",
   "execution_count": 17,
   "id": "88a310b8",
   "metadata": {},
   "outputs": [
    {
     "name": "stdout",
     "output_type": "stream",
     "text": [
      "['False', 'None', 'True', '__peg_parser__', 'and', 'as', 'assert', 'async', 'await', 'break', 'class', 'continue', 'def', 'del', 'elif', 'else', 'except', 'finally', 'for', 'from', 'global', 'if', 'import', 'in', 'is', 'lambda', 'nonlocal', 'not', 'or', 'pass', 'raise', 'return', 'try', 'while', 'with', 'yield']\n"
     ]
    }
   ],
   "source": [
    "import keyword as kwd \n",
    "kwlist = kwd.kwlist \n",
    "\n",
    "print(kwlist)"
   ]
  },
  {
   "cell_type": "markdown",
   "id": "f6527bb0",
   "metadata": {},
   "source": [
    "파이썬의 예약어란 파이썬에서 이미 다른 목적을 위해 사용하는 단어로서 변수명으로 사용할 수 없다. \n",
    "\n",
    "예약어 종류는 33개이다. \n",
    "\n",
    "True, False, None을 제외하면 모두 소문자로 구성되었다. \n",
    "\n",
    "키워드라고도 한다. "
   ]
  },
  {
   "cell_type": "code",
   "execution_count": 12,
   "id": "a2bc203b",
   "metadata": {},
   "outputs": [
    {
     "name": "stdout",
     "output_type": "stream",
     "text": [
      "<class 'int'> <class 'float'> <class 'float'>\n",
      "135.0\n"
     ]
    }
   ],
   "source": [
    "# 숫자, 문자, 리스트, 듀플, 딕셔너리\n",
    "\n",
    "int1 = 123 \n",
    "int2 = 12. \n",
    "int3 = int1 + int2 # 숫자형 + 숫자형 => 산술연산 더하기 \n",
    "\n",
    "print(type(int1), type(int2),type(int3)) # type(): 데이터 형식을 출력 \n",
    "print(int3)"
   ]
  },
  {
   "cell_type": "markdown",
   "id": "4fd56262",
   "metadata": {},
   "source": [
    "문자형\n",
    "\n",
    "데이터 입력시 인용부호로 단일(') 또는 이중(\") 따움표를 사용한다.\n",
    "\n",
    "문자열은 문자들의 모임, 문자를 나열한 것을 문자열이라고 함\n"
   ]
  },
  {
   "cell_type": "markdown",
   "id": "c6da6b38",
   "metadata": {},
   "source": [
    "# 인덱싱(indexing)/슬라이싱"
   ]
  },
  {
   "cell_type": "code",
   "execution_count": 22,
   "id": "d5a9de4a",
   "metadata": {},
   "outputs": [
    {
     "name": "stdout",
     "output_type": "stream",
     "text": [
      "<class 'str'> <class 'str'> <class 'str'>\n",
      "파이썬, 문자열, 데이터12345\n",
      "P\n",
      "l\n",
      " \n",
      "파이썬\n",
      "23\n",
      "Powerful\n"
     ]
    }
   ],
   "source": [
    "str1=\"Python is Very Powerful\" \n",
    "str2='파이썬, 문자열, 데이터' \n",
    "str3=\"12345\" \n",
    "\n",
    "print(type(str1),type(str2), type(str3)) \n",
    "print(str2 + str3)                         # 문자 + 문자 => 연결연산\n",
    " \n",
    "# 문자데이터 인덱싱 \n",
    "print(str1[0])\n",
    "print(str1[-1])\n",
    "print(str2[4])\n",
    "\n",
    "\n",
    "# 문자데이터 슬라이싱\n",
    "print(str2[0:3])     # str2[:3]\n",
    "print(len(str1))     # len() : 입력된 데이터 길이\n",
    "print(str1[-8:])     # print(str1[-8:23])"
   ]
  },
  {
   "cell_type": "code",
   "execution_count": 25,
   "id": "9c62ba2e",
   "metadata": {},
   "outputs": [
    {
     "name": "stdout",
     "output_type": "stream",
     "text": [
      "['파이썬', '문자열', '데이터']\n",
      "파이썬, 문자열, 데이터\n"
     ]
    }
   ],
   "source": [
    "# split() 입력 기호를 중심으로 텍스트 나누기, 기본값은 스페이스\n",
    "\n",
    "print(str2.split(\", \"))     \n",
    "print(str2)"
   ]
  },
  {
   "cell_type": "code",
   "execution_count": 28,
   "id": "2dcdb174",
   "metadata": {},
   "outputs": [
    {
     "name": "stdout",
     "output_type": "stream",
     "text": [
      "파이썬 is Very Powerful\n"
     ]
    }
   ],
   "source": [
    "# replace(\"a\", \"b\") : a값을 찾아서 b로 변경\n",
    "\n",
    "print(str1.replace(\"Python\", \"파이썬\"))"
   ]
  },
  {
   "cell_type": "markdown",
   "id": "653867a3",
   "metadata": {},
   "source": [
    "리스트형\n",
    "\n",
    "데이터 입력 시 [ ] 로 묶어서 입력\n",
    "\n",
    "리스트명 =[요소1, 요소2, 요소3, ...]\n",
    "\n",
    "복합형 데이터 입력시 사용\n",
    "\n",
    "인덱싱/슬라이싱"
   ]
  },
  {
   "cell_type": "code",
   "execution_count": 29,
   "id": "fdc0d3e8",
   "metadata": {},
   "outputs": [
    {
     "name": "stdout",
     "output_type": "stream",
     "text": [
      "<class 'list'> <class 'list'>\n"
     ]
    }
   ],
   "source": [
    "lst1=[10,20,30,'파이썬', \"삼성멀티캠\", [150,300,500]]\n",
    "lst2=['요소1', \"요소2\"]\n",
    "\n",
    "print(type(lst1), type(lst2))"
   ]
  },
  {
   "cell_type": "code",
   "execution_count": 30,
   "id": "ddaa2e3f",
   "metadata": {},
   "outputs": [
    {
     "name": "stdout",
     "output_type": "stream",
     "text": [
      "10\n",
      "[150, 300, 500]\n",
      "300\n"
     ]
    }
   ],
   "source": [
    "print(lst1[0])\n",
    "print(lst1[-1])\n",
    "print(lst1[-1][1])"
   ]
  },
  {
   "cell_type": "code",
   "execution_count": 31,
   "id": "6aa061e2",
   "metadata": {},
   "outputs": [
    {
     "name": "stdout",
     "output_type": "stream",
     "text": [
      "[10, 20, 30]\n",
      "삼성멀티캠\n",
      "<class 'str'>\n",
      "삼성\n"
     ]
    }
   ],
   "source": [
    "print(lst1[:3])\n",
    "print(lst1[4])\n",
    "print(type(lst1[4]))\n",
    "print(lst1[4][0:2])"
   ]
  },
  {
   "cell_type": "code",
   "execution_count": 32,
   "id": "15ed09d6",
   "metadata": {},
   "outputs": [
    {
     "data": {
      "text/plain": [
       "[10, 20, 30, '파이썬', '삼성멀티캠', [150, 300, 500], '요소1', '요소2']"
      ]
     },
     "execution_count": 32,
     "metadata": {},
     "output_type": "execute_result"
    }
   ],
   "source": [
    "lst1+lst2"
   ]
  },
  {
   "cell_type": "code",
   "execution_count": 34,
   "id": "fd92473b",
   "metadata": {},
   "outputs": [
    {
     "data": {
      "text/plain": [
       "['요소1', '요소2', '서정동', '서정동']"
      ]
     },
     "execution_count": 34,
     "metadata": {},
     "output_type": "execute_result"
    }
   ],
   "source": [
    "# append(' ')리스트 구조의 마지막 데이터 뒤에 추가\n",
    "\n",
    "lst2.append('서정동') \n",
    "lst2"
   ]
  },
  {
   "cell_type": "code",
   "execution_count": 35,
   "id": "4a98c2d9",
   "metadata": {},
   "outputs": [
    {
     "data": {
      "text/plain": [
       "[10, 20, 30, '파이썬 3.9', '삼성멀티캠', [150, 300, 500]]"
      ]
     },
     "execution_count": 35,
     "metadata": {},
     "output_type": "execute_result"
    }
   ],
   "source": [
    "lst1[3]='파이썬 3.9'\n",
    "\n",
    "lst1"
   ]
  },
  {
   "cell_type": "code",
   "execution_count": 36,
   "id": "12064197",
   "metadata": {},
   "outputs": [
    {
     "data": {
      "text/plain": [
       "[10, 20, 30, '파이썬 3.9', '삼성멀티캠퍼스', [150, 300, 500]]"
      ]
     },
     "execution_count": 36,
     "metadata": {},
     "output_type": "execute_result"
    }
   ],
   "source": [
    "lst1[-2]=lst1[-2].replace('캠', \"캠퍼스\")\n",
    "\n",
    "lst1"
   ]
  },
  {
   "cell_type": "code",
   "execution_count": 37,
   "id": "999fe075",
   "metadata": {},
   "outputs": [
    {
     "name": "stdout",
     "output_type": "stream",
     "text": [
      "6\n",
      "7\n"
     ]
    }
   ],
   "source": [
    "# 리스트의 데이터 개수 len()\n",
    "print(len(lst1)) \n",
    "\n",
    "# lst1의 4번째 인덱스의 값 길이\n",
    "print(len(lst1[4])) "
   ]
  },
  {
   "cell_type": "markdown",
   "id": "c58ee2d4",
   "metadata": {},
   "source": [
    "# 튜플형\n",
    "\n",
    "입력시 ()로 묶어서 입력\n",
    "\n",
    "튜플변수=(10,20,30)\n",
    "\n",
    "리스트의 항목 값은 변화가 가능하고 튜플의 항목 값은 변화가 불가능하다."
   ]
  },
  {
   "cell_type": "code",
   "execution_count": 38,
   "id": "baac104d",
   "metadata": {},
   "outputs": [
    {
     "name": "stdout",
     "output_type": "stream",
     "text": [
      "<class 'tuple'>\n",
      "(1, 2, '파이썬')\n",
      "파이썬\n"
     ]
    }
   ],
   "source": [
    "t1 = (1, 2, \"파이썬\", (100,200))\n",
    "\n",
    "print(type(t1))\n",
    "print(t1[:3])\n",
    "print(t1[2])"
   ]
  },
  {
   "cell_type": "code",
   "execution_count": 39,
   "id": "36546b1e",
   "metadata": {},
   "outputs": [
    {
     "ename": "TypeError",
     "evalue": "'tuple' object does not support item assignment",
     "output_type": "error",
     "traceback": [
      "\u001b[1;31m---------------------------------------------------------------------------\u001b[0m",
      "\u001b[1;31mTypeError\u001b[0m                                 Traceback (most recent call last)",
      "\u001b[1;32m~\\AppData\\Local\\Temp/ipykernel_13108/3767752729.py\u001b[0m in \u001b[0;36m<module>\u001b[1;34m\u001b[0m\n\u001b[1;32m----> 1\u001b[1;33m \u001b[0mt1\u001b[0m\u001b[1;33m[\u001b[0m\u001b[1;36m2\u001b[0m\u001b[1;33m]\u001b[0m\u001b[1;33m=\u001b[0m\u001b[1;34m\"파이썬 3.9\"\u001b[0m\u001b[1;33m\u001b[0m\u001b[1;33m\u001b[0m\u001b[0m\n\u001b[0m",
      "\u001b[1;31mTypeError\u001b[0m: 'tuple' object does not support item assignment"
     ]
    }
   ],
   "source": [
    "t1[2]=\"파이썬 3.9\""
   ]
  },
  {
   "cell_type": "markdown",
   "id": "275c522b",
   "metadata": {},
   "source": [
    "# 딕셔너리형(사전구조)\n",
    "\n",
    "딕셔너리변수={\"Key1\":value1, \"key2\":value2, ....}"
   ]
  },
  {
   "cell_type": "code",
   "execution_count": 40,
   "id": "c8bcba75",
   "metadata": {},
   "outputs": [],
   "source": [
    "dict1={'이름':'서정동', \"성별\":\"남\", \"지역\":'서울 노원구', \"성적\": 85}\n",
    "dict2={\"이름\":[\"홍길동\",\"이순신\", \"박변수\"],\n",
    "       \"성별\":[\"남\", \"남\", \"여\"],\n",
    "       \"나이\":[35, 66, 28]}"
   ]
  },
  {
   "cell_type": "code",
   "execution_count": 41,
   "id": "10099ee5",
   "metadata": {},
   "outputs": [
    {
     "name": "stdout",
     "output_type": "stream",
     "text": [
      "dict_keys(['이름', '성별', '지역', '성적'])\n",
      "dict_values(['서정동', '남', '서울 노원구', 85])\n",
      "서정동\n"
     ]
    }
   ],
   "source": [
    "print(dict1.keys())\n",
    "print(dict1.values()) \n",
    "print(dict1[\"이름\"])"
   ]
  },
  {
   "cell_type": "code",
   "execution_count": 42,
   "id": "c3bf471a",
   "metadata": {},
   "outputs": [
    {
     "name": "stdout",
     "output_type": "stream",
     "text": [
      "['홍길동', '이순신', '박변수']\n",
      "이름:홍길동 성별:남\n",
      "이름:홍길동, 성별:남, 나이:35\n"
     ]
    }
   ],
   "source": [
    "print(dict2[\"이름\"])\n",
    "\n",
    "print('이름:'+dict2[\"이름\"][0]+\" 성별:\"+dict2[\"성별\"][0])\n",
    "print(f'이름:{dict2[\"이름\"][0]}, 성별:{dict2[\"성별\"][0]}, 나이:{dict2[\"나이\"][0]}')"
   ]
  },
  {
   "cell_type": "code",
   "execution_count": 48,
   "id": "15cb9435",
   "metadata": {},
   "outputs": [
    {
     "name": "stdout",
     "output_type": "stream",
     "text": [
      "이름: 서정동 ,나이: 45\n",
      "이름:서정동, 성별:45\n"
     ]
    }
   ],
   "source": [
    "name=\"서정동\"\n",
    "age=45\n",
    "\n",
    "print(\"이름:\",name,\",나이:\",age)\n",
    "print(f'이름:{name}, 성별:{age}')"
   ]
  },
  {
   "cell_type": "code",
   "execution_count": 50,
   "id": "a9e946cc",
   "metadata": {},
   "outputs": [
    {
     "data": {
      "text/html": [
       "<div>\n",
       "<style scoped>\n",
       "    .dataframe tbody tr th:only-of-type {\n",
       "        vertical-align: middle;\n",
       "    }\n",
       "\n",
       "    .dataframe tbody tr th {\n",
       "        vertical-align: top;\n",
       "    }\n",
       "\n",
       "    .dataframe thead th {\n",
       "        text-align: right;\n",
       "    }\n",
       "</style>\n",
       "<table border=\"1\" class=\"dataframe\">\n",
       "  <thead>\n",
       "    <tr style=\"text-align: right;\">\n",
       "      <th></th>\n",
       "      <th>이름</th>\n",
       "      <th>성별</th>\n",
       "      <th>나이</th>\n",
       "    </tr>\n",
       "  </thead>\n",
       "  <tbody>\n",
       "    <tr>\n",
       "      <th>0</th>\n",
       "      <td>홍길동</td>\n",
       "      <td>남</td>\n",
       "      <td>35</td>\n",
       "    </tr>\n",
       "    <tr>\n",
       "      <th>1</th>\n",
       "      <td>이순신</td>\n",
       "      <td>남</td>\n",
       "      <td>66</td>\n",
       "    </tr>\n",
       "    <tr>\n",
       "      <th>2</th>\n",
       "      <td>박변수</td>\n",
       "      <td>여</td>\n",
       "      <td>28</td>\n",
       "    </tr>\n",
       "  </tbody>\n",
       "</table>\n",
       "</div>"
      ],
      "text/plain": [
       "    이름 성별  나이\n",
       "0  홍길동  남  35\n",
       "1  이순신  남  66\n",
       "2  박변수  여  28"
      ]
     },
     "execution_count": 50,
     "metadata": {},
     "output_type": "execute_result"
    }
   ],
   "source": [
    "import pandas as pd\n",
    "\n",
    "df=pd.DataFrame(dict2)\n",
    "df"
   ]
  },
  {
   "cell_type": "code",
   "execution_count": 51,
   "id": "8ad55638",
   "metadata": {},
   "outputs": [
    {
     "name": "stdout",
     "output_type": "stream",
     "text": [
      "45\n",
      "9\n"
     ]
    }
   ],
   "source": [
    "a=4\n",
    "b=\"5\"\n",
    "\n",
    "print(str(a)+b) # str(값) : 입력값을 문자형으로 변경\n",
    "print(a+int(b)) # int(값) : 입력값을 숫자형으로 변경\n",
    "\n",
    "                       # (단, 보여지는 값이 숫자일 경우만 가능)"
   ]
  },
  {
   "cell_type": "code",
   "execution_count": null,
   "id": "d538c1b6",
   "metadata": {},
   "outputs": [],
   "source": []
  },
  {
   "cell_type": "code",
   "execution_count": null,
   "id": "5a140809",
   "metadata": {},
   "outputs": [],
   "source": []
  }
 ],
 "metadata": {
  "kernelspec": {
   "display_name": "Python 3 (ipykernel)",
   "language": "python",
   "name": "python3"
  },
  "language_info": {
   "codemirror_mode": {
    "name": "ipython",
    "version": 3
   },
   "file_extension": ".py",
   "mimetype": "text/x-python",
   "name": "python",
   "nbconvert_exporter": "python",
   "pygments_lexer": "ipython3",
   "version": "3.9.5"
  }
 },
 "nbformat": 4,
 "nbformat_minor": 5
}
