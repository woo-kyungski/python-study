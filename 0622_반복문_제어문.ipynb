{
 "cells": [
  {
   "cell_type": "markdown",
   "id": "8e95a001",
   "metadata": {},
   "source": [
    "반복문(for)"
   ]
  },
  {
   "cell_type": "code",
   "execution_count": 2,
   "id": "bb7fdf42",
   "metadata": {},
   "outputs": [],
   "source": [
    "inName = ['홍길동', '박변수', '김수진', '허순이', '서정동']\n",
    "\n",
    "inAge = [33, 28, 49, 52, 54]"
   ]
  },
  {
   "cell_type": "code",
   "execution_count": 9,
   "id": "07c7c6d1",
   "metadata": {},
   "outputs": [
    {
     "name": "stdout",
     "output_type": "stream",
     "text": [
      "안녕하세요. 홍길동님\n",
      "안녕하세요. 박변수님\n",
      "안녕하세요. 김수진님\n",
      "안녕하세요. 허순이님\n",
      "안녕하세요. 서정동님\n"
     ]
    }
   ],
   "source": [
    "print(f'안녕하세요. {inName[0]}님')\n",
    "print(f'안녕하세요. {inName[1]}님')\n",
    "print(f'안녕하세요. {inName[2]}님')\n",
    "print(f'안녕하세요. {inName[3]}님')\n",
    "print(f'안녕하세요. {inName[4]}님')"
   ]
  },
  {
   "cell_type": "code",
   "execution_count": 6,
   "id": "c5079418",
   "metadata": {},
   "outputs": [
    {
     "name": "stdout",
     "output_type": "stream",
     "text": [
      "안녕하세요. 홍길동님\n",
      "안녕하세요. 박변수님\n",
      "안녕하세요. 김수진님\n",
      "안녕하세요. 허순이님\n",
      "안녕하세요. 서정동님\n",
      "===== End =====\n",
      "서정동\n"
     ]
    }
   ],
   "source": [
    "#for 변수 in 순차 데이터:\n",
    "\n",
    "for name in inName:\n",
    "\n",
    "      print(f'안녕하세요. {name}님')\n",
    "\n",
    "print(\"===== End =====\")\n",
    "\n",
    "print(name)\n",
    "\n",
    "del name  # del()메모리에서 해당 개체(변수) 삭제"
   ]
  },
  {
   "cell_type": "code",
   "execution_count": 10,
   "id": "a6f1e7da",
   "metadata": {},
   "outputs": [
    {
     "name": "stdout",
     "output_type": "stream",
     "text": [
      "이름: 홍길동, 나이: 33\n",
      "이름: 박변수, 나이: 28\n",
      "이름: 김수진, 나이: 49\n",
      "이름: 허순이, 나이: 52\n",
      "이름: 서정동, 나이: 54\n"
     ]
    }
   ],
   "source": [
    "print(f'이름: {inName[0]}, 나이: {inAge[0]}')\n",
    "\n",
    "print(f'이름: {inName[1]}, 나이: {inAge[1]}') \n",
    "\n",
    "print(f'이름: {inName[2]}, 나이: {inAge[2]}') \n",
    "\n",
    "print(f'이름: {inName[3]}, 나이: {inAge[3]}')\n",
    "\n",
    "print(f'이름: {inName[4]}, 나이: {inAge[4]}')"
   ]
  },
  {
   "cell_type": "markdown",
   "id": "6c7c5401",
   "metadata": {},
   "source": [
    "for 변수 in range():\n",
    "\n",
    "range(10) => 0 부터 시작해서 10개의 정수형 숫자 생성\n",
    "\n",
    "range(5,10) => 0 부터 시작해서 10개의 정수형 숫자 생성하고 5부터 출력\n",
    "\n",
    "range(1,10,2) => 0 부터 시작해서 10개의 정수형 숫자 생성하고 1부터 2씩 증가하면서 출력"
   ]
  },
  {
   "cell_type": "code",
   "execution_count": 13,
   "id": "851beec6",
   "metadata": {},
   "outputs": [
    {
     "name": "stdout",
     "output_type": "stream",
     "text": [
      "[0, 1, 2, 3, 4, 5, 6, 7, 8, 9]\n",
      "[5, 6, 7, 8, 9]\n",
      "[2, 4, 6, 8]\n",
      "[0, 1, 2, 3, 4]\n"
     ]
    }
   ],
   "source": [
    "# list() : 데이터를 리스트형 자료로 변경 \n",
    "\n",
    "print(list(range(10))) \n",
    "print(list(range(5, 10))) \n",
    "print(list(range(2, 10, 2)))\n",
    "\n",
    "print(list(range(5)))"
   ]
  },
  {
   "cell_type": "markdown",
   "id": "2a0b0d89",
   "metadata": {},
   "source": [
    "Picture 폴더의 이미지 정보 가져와 저장하기\n",
    "\n",
    "PIL의 Image 모듈 : 이미지 처리 모듈\n",
    "\n",
    "os 모듈 : 사용중인 시스템 모듈"
   ]
  },
  {
   "cell_type": "code",
   "execution_count": 14,
   "id": "16d63811",
   "metadata": {},
   "outputs": [],
   "source": [
    "from PIL import Image \n",
    "import os"
   ]
  },
  {
   "cell_type": "code",
   "execution_count": 60,
   "id": "ed5cd37c",
   "metadata": {},
   "outputs": [
    {
     "name": "stdout",
     "output_type": "stream",
     "text": [
      "['img1.jpg', 'img10.jpg', 'img11.jpg', 'img12.jpg', 'img13.jpg', 'img14.jpg', 'img15.jpg', 'img16.jpg', 'img17.jpg', 'img18.jpg', 'img19.jpg', 'img2.jpg', 'img20.jpg', 'img21.jpg', 'img22.jpg', 'img23.jpg', 'img24.jpg', 'img25.jpg', 'img26.jpg', 'img27.jpg', 'img28.jpg', 'img29.jpg', 'img3.jpg', 'img30.jpg', 'img4.jpg', 'img5.jpg', 'img6.jpg', 'img7.jpg', 'img8.jpg', 'img9.jpg', 'pic1.jpg', 'pic2.jpg', 'pic3.jpg', '연습.txt']\n",
      "\n",
      "./pictureimg1.jpg\n"
     ]
    }
   ],
   "source": [
    "fileDir = \"./picture\"\n",
    "\n",
    "fileName = os.listdir(fileDir)\n",
    "\n",
    "print(fileName)\n",
    "print()\n",
    "print(fileDir+fileName[0])"
   ]
  },
  {
   "cell_type": "code",
   "execution_count": 61,
   "id": "96ffae45",
   "metadata": {
    "scrolled": true
   },
   "outputs": [
    {
     "ename": "FileNotFoundError",
     "evalue": "[Errno 2] No such file or directory: './pictureimg1.jpg'",
     "output_type": "error",
     "traceback": [
      "\u001b[1;31m---------------------------------------------------------------------------\u001b[0m",
      "\u001b[1;31mFileNotFoundError\u001b[0m                         Traceback (most recent call last)",
      "\u001b[1;32m~\\AppData\\Local\\Temp/ipykernel_1520/685332665.py\u001b[0m in \u001b[0;36m<module>\u001b[1;34m\u001b[0m\n\u001b[1;32m----> 1\u001b[1;33m \u001b[0mtmp\u001b[0m\u001b[1;33m=\u001b[0m\u001b[0mImage\u001b[0m\u001b[1;33m.\u001b[0m\u001b[0mopen\u001b[0m\u001b[1;33m(\u001b[0m\u001b[0mfileDir\u001b[0m\u001b[1;33m+\u001b[0m\u001b[0mfileName\u001b[0m\u001b[1;33m[\u001b[0m\u001b[1;36m0\u001b[0m\u001b[1;33m]\u001b[0m\u001b[1;33m)\u001b[0m\u001b[1;33m\u001b[0m\u001b[1;33m\u001b[0m\u001b[0m\n\u001b[0m\u001b[0;32m      2\u001b[0m \u001b[0mprint\u001b[0m\u001b[1;33m(\u001b[0m\u001b[1;34mf'파일명: {fileName[0]}, 사이즈: {tmp.size}'\u001b[0m\u001b[1;33m)\u001b[0m\u001b[1;33m\u001b[0m\u001b[1;33m\u001b[0m\u001b[0m\n\u001b[0;32m      3\u001b[0m \u001b[1;33m\u001b[0m\u001b[0m\n\u001b[0;32m      4\u001b[0m \u001b[0mtmp\u001b[0m\u001b[1;33m=\u001b[0m\u001b[0mImage\u001b[0m\u001b[1;33m.\u001b[0m\u001b[0mopen\u001b[0m\u001b[1;33m(\u001b[0m\u001b[0mfileDir\u001b[0m\u001b[1;33m+\u001b[0m\u001b[0mfileName\u001b[0m\u001b[1;33m[\u001b[0m\u001b[1;36m1\u001b[0m\u001b[1;33m]\u001b[0m\u001b[1;33m)\u001b[0m\u001b[1;33m\u001b[0m\u001b[1;33m\u001b[0m\u001b[0m\n\u001b[0;32m      5\u001b[0m \u001b[0mprint\u001b[0m\u001b[1;33m(\u001b[0m\u001b[1;34mf'파일명: {fileName[1]}, 사이즈: {tmp.size}'\u001b[0m\u001b[1;33m)\u001b[0m\u001b[1;33m\u001b[0m\u001b[1;33m\u001b[0m\u001b[0m\n",
      "\u001b[1;32m~\\.conda\\envs\\multi\\lib\\site-packages\\PIL\\Image.py\u001b[0m in \u001b[0;36mopen\u001b[1;34m(fp, mode, formats)\u001b[0m\n\u001b[0;32m   2910\u001b[0m \u001b[1;33m\u001b[0m\u001b[0m\n\u001b[0;32m   2911\u001b[0m     \u001b[1;32mif\u001b[0m \u001b[0mfilename\u001b[0m\u001b[1;33m:\u001b[0m\u001b[1;33m\u001b[0m\u001b[1;33m\u001b[0m\u001b[0m\n\u001b[1;32m-> 2912\u001b[1;33m         \u001b[0mfp\u001b[0m \u001b[1;33m=\u001b[0m \u001b[0mbuiltins\u001b[0m\u001b[1;33m.\u001b[0m\u001b[0mopen\u001b[0m\u001b[1;33m(\u001b[0m\u001b[0mfilename\u001b[0m\u001b[1;33m,\u001b[0m \u001b[1;34m\"rb\"\u001b[0m\u001b[1;33m)\u001b[0m\u001b[1;33m\u001b[0m\u001b[1;33m\u001b[0m\u001b[0m\n\u001b[0m\u001b[0;32m   2913\u001b[0m         \u001b[0mexclusive_fp\u001b[0m \u001b[1;33m=\u001b[0m \u001b[1;32mTrue\u001b[0m\u001b[1;33m\u001b[0m\u001b[1;33m\u001b[0m\u001b[0m\n\u001b[0;32m   2914\u001b[0m \u001b[1;33m\u001b[0m\u001b[0m\n",
      "\u001b[1;31mFileNotFoundError\u001b[0m: [Errno 2] No such file or directory: './pictureimg1.jpg'"
     ]
    }
   ],
   "source": [
    "tmp=Image.open(fileDir+fileName[0])\n",
    "print(f'파일명: {fileName[0]}, 사이즈: {tmp.size}')\n",
    "\n",
    "tmp=Image.open(fileDir+fileName[1])\n",
    "print(f'파일명: {fileName[1]}, 사이즈: {tmp.size}')\n",
    "\n",
    "tmp=Image.open(fileDir+fileName[1])\n",
    "print(f'파일명: {fileName[2]}, 사이즈: {tmp.size}')\n",
    "\n",
    "tmp=Image.open(fileDir+fileName[2])\n",
    "print(f'파일명: {fileName[3]}, 사이즈: {tmp.size}')\n",
    "\n",
    "tmp=Image.open(fileDir+fileName[3])\n",
    "print(f'파일명: {fileName[4]}, 사이즈: {tmp.size}')\n",
    "\n",
    "tmp=Image.open(fileDir+fileName[5])\n",
    "print(f'파일명: {fileName[5]}, 사이즈: {tmp.size}')"
   ]
  },
  {
   "cell_type": "code",
   "execution_count": 24,
   "id": "9f4451d3",
   "metadata": {},
   "outputs": [
    {
     "ename": "FileNotFoundError",
     "evalue": "[Errno 2] No such file or directory: 'C:/Users/wooky/Desktop/회사원/취업지원센터/내일배움카드/빅데이터 기반 지능형 서비스 개발/pycode/0622 자료형 처리를 위한 for_if 기본/pictureimg1.jpg'",
     "output_type": "error",
     "traceback": [
      "\u001b[1;31m---------------------------------------------------------------------------\u001b[0m",
      "\u001b[1;31mFileNotFoundError\u001b[0m                         Traceback (most recent call last)",
      "\u001b[1;32m~\\AppData\\Local\\Temp/ipykernel_1520/2387718103.py\u001b[0m in \u001b[0;36m<module>\u001b[1;34m\u001b[0m\n\u001b[0;32m      1\u001b[0m \u001b[1;32mfor\u001b[0m \u001b[0mfn\u001b[0m \u001b[1;32min\u001b[0m \u001b[0mfileName\u001b[0m\u001b[1;33m:\u001b[0m\u001b[1;33m\u001b[0m\u001b[1;33m\u001b[0m\u001b[0m\n\u001b[1;32m----> 2\u001b[1;33m      \u001b[0mtmp\u001b[0m\u001b[1;33m=\u001b[0m\u001b[0mImage\u001b[0m\u001b[1;33m.\u001b[0m\u001b[0mopen\u001b[0m\u001b[1;33m(\u001b[0m\u001b[0mfileDir\u001b[0m\u001b[1;33m+\u001b[0m\u001b[0mfn\u001b[0m\u001b[1;33m)\u001b[0m \u001b[1;31m# 정의된 파일 열어 tmp에 저장하기\u001b[0m\u001b[1;33m\u001b[0m\u001b[1;33m\u001b[0m\u001b[0m\n\u001b[0m\u001b[0;32m      3\u001b[0m                                 \u001b[1;31m# 파일명, tmp에 있는 이미지 사이즈 출력\u001b[0m\u001b[1;33m\u001b[0m\u001b[1;33m\u001b[0m\u001b[1;33m\u001b[0m\u001b[0m\n\u001b[0;32m      4\u001b[0m \u001b[1;33m\u001b[0m\u001b[0m\n\u001b[0;32m      5\u001b[0m \u001b[0mprint\u001b[0m\u001b[1;33m(\u001b[0m\u001b[1;34mf'파일명: {fn}, 사이즈: {tmp.size}'\u001b[0m\u001b[1;33m)\u001b[0m\u001b[1;33m\u001b[0m\u001b[1;33m\u001b[0m\u001b[0m\n",
      "\u001b[1;32m~\\.conda\\envs\\multi\\lib\\site-packages\\PIL\\Image.py\u001b[0m in \u001b[0;36mopen\u001b[1;34m(fp, mode, formats)\u001b[0m\n\u001b[0;32m   2910\u001b[0m \u001b[1;33m\u001b[0m\u001b[0m\n\u001b[0;32m   2911\u001b[0m     \u001b[1;32mif\u001b[0m \u001b[0mfilename\u001b[0m\u001b[1;33m:\u001b[0m\u001b[1;33m\u001b[0m\u001b[1;33m\u001b[0m\u001b[0m\n\u001b[1;32m-> 2912\u001b[1;33m         \u001b[0mfp\u001b[0m \u001b[1;33m=\u001b[0m \u001b[0mbuiltins\u001b[0m\u001b[1;33m.\u001b[0m\u001b[0mopen\u001b[0m\u001b[1;33m(\u001b[0m\u001b[0mfilename\u001b[0m\u001b[1;33m,\u001b[0m \u001b[1;34m\"rb\"\u001b[0m\u001b[1;33m)\u001b[0m\u001b[1;33m\u001b[0m\u001b[1;33m\u001b[0m\u001b[0m\n\u001b[0m\u001b[0;32m   2913\u001b[0m         \u001b[0mexclusive_fp\u001b[0m \u001b[1;33m=\u001b[0m \u001b[1;32mTrue\u001b[0m\u001b[1;33m\u001b[0m\u001b[1;33m\u001b[0m\u001b[0m\n\u001b[0;32m   2914\u001b[0m \u001b[1;33m\u001b[0m\u001b[0m\n",
      "\u001b[1;31mFileNotFoundError\u001b[0m: [Errno 2] No such file or directory: 'C:/Users/wooky/Desktop/회사원/취업지원센터/내일배움카드/빅데이터 기반 지능형 서비스 개발/pycode/0622 자료형 처리를 위한 for_if 기본/pictureimg1.jpg'"
     ]
    }
   ],
   "source": [
    "for fn in fileName:\n",
    "     tmp=Image.open(fileDir+fn) # 정의된 파일 열어 tmp에 저장하기\n",
    "                                # 파일명, tmp에 있는 이미지 사이즈 출력\n",
    "\n",
    "print(f'파일명: {fn}, 사이즈: {tmp.size}')\n",
    "\n",
    "print(\"===== End =====\")"
   ]
  },
  {
   "cell_type": "code",
   "execution_count": 22,
   "id": "f947c2a7",
   "metadata": {},
   "outputs": [
    {
     "name": "stdout",
     "output_type": "stream",
     "text": [
      "1638595927.1724236\n"
     ]
    }
   ],
   "source": [
    "import time\n",
    "\n",
    "tm=time.time()\n",
    "\n",
    "print(tm)"
   ]
  },
  {
   "cell_type": "code",
   "execution_count": 69,
   "id": "494dc17b",
   "metadata": {},
   "outputs": [
    {
     "ename": "FileNotFoundError",
     "evalue": "[Errno 2] No such file or directory: './pictureimg1.jpg'",
     "output_type": "error",
     "traceback": [
      "\u001b[1;31m---------------------------------------------------------------------------\u001b[0m",
      "\u001b[1;31mFileNotFoundError\u001b[0m                         Traceback (most recent call last)",
      "\u001b[1;32m~\\AppData\\Local\\Temp/ipykernel_1520/3778869180.py\u001b[0m in \u001b[0;36m<module>\u001b[1;34m\u001b[0m\n\u001b[0;32m      3\u001b[0m \u001b[1;32mfor\u001b[0m \u001b[0mfn\u001b[0m \u001b[1;32min\u001b[0m \u001b[0mfileName\u001b[0m\u001b[1;33m:\u001b[0m\u001b[1;33m\u001b[0m\u001b[1;33m\u001b[0m\u001b[0m\n\u001b[0;32m      4\u001b[0m \u001b[1;33m\u001b[0m\u001b[0m\n\u001b[1;32m----> 5\u001b[1;33m      \u001b[0mtmp\u001b[0m\u001b[1;33m=\u001b[0m\u001b[0mImage\u001b[0m\u001b[1;33m.\u001b[0m\u001b[0mopen\u001b[0m\u001b[1;33m(\u001b[0m\u001b[0mfileDir\u001b[0m\u001b[1;33m+\u001b[0m\u001b[0mfn\u001b[0m\u001b[1;33m)\u001b[0m \u001b[1;31m# 정의된 파일 열어 tmp에 저장하기\u001b[0m\u001b[1;33m\u001b[0m\u001b[1;33m\u001b[0m\u001b[0m\n\u001b[0m\u001b[0;32m      6\u001b[0m                                \u001b[1;31m# 파일명, tmp에 있는 이미지 사이즈 출력\u001b[0m\u001b[1;33m\u001b[0m\u001b[1;33m\u001b[0m\u001b[1;33m\u001b[0m\u001b[0m\n\u001b[0;32m      7\u001b[0m \u001b[1;33m\u001b[0m\u001b[0m\n",
      "\u001b[1;32m~\\.conda\\envs\\multi\\lib\\site-packages\\PIL\\Image.py\u001b[0m in \u001b[0;36mopen\u001b[1;34m(fp, mode, formats)\u001b[0m\n\u001b[0;32m   2910\u001b[0m \u001b[1;33m\u001b[0m\u001b[0m\n\u001b[0;32m   2911\u001b[0m     \u001b[1;32mif\u001b[0m \u001b[0mfilename\u001b[0m\u001b[1;33m:\u001b[0m\u001b[1;33m\u001b[0m\u001b[1;33m\u001b[0m\u001b[0m\n\u001b[1;32m-> 2912\u001b[1;33m         \u001b[0mfp\u001b[0m \u001b[1;33m=\u001b[0m \u001b[0mbuiltins\u001b[0m\u001b[1;33m.\u001b[0m\u001b[0mopen\u001b[0m\u001b[1;33m(\u001b[0m\u001b[0mfilename\u001b[0m\u001b[1;33m,\u001b[0m \u001b[1;34m\"rb\"\u001b[0m\u001b[1;33m)\u001b[0m\u001b[1;33m\u001b[0m\u001b[1;33m\u001b[0m\u001b[0m\n\u001b[0m\u001b[0;32m   2913\u001b[0m         \u001b[0mexclusive_fp\u001b[0m \u001b[1;33m=\u001b[0m \u001b[1;32mTrue\u001b[0m\u001b[1;33m\u001b[0m\u001b[1;33m\u001b[0m\u001b[0m\n\u001b[0;32m   2914\u001b[0m \u001b[1;33m\u001b[0m\u001b[0m\n",
      "\u001b[1;31mFileNotFoundError\u001b[0m: [Errno 2] No such file or directory: './pictureimg1.jpg'"
     ]
    }
   ],
   "source": [
    "tm1=time.time()\n",
    "\n",
    "for fn in fileName:\n",
    "\n",
    "     tmp=Image.open(fileDir+fn) # 정의된 파일 열어 tmp에 저장하기\n",
    "                               # 파일명, tmp에 있는 이미지 사이즈 출력\n",
    "\n",
    "print(f'파일명: {fn}, 가로: {tmp.size[0]}, 세로: {tmp.size[1]}')\n",
    "\n",
    "\n",
    "print(\"===== End =====\") \n",
    "\n",
    "tm2=time.time()\n",
    "\n",
    "print(tm2-tm1)"
   ]
  },
  {
   "cell_type": "code",
   "execution_count": 62,
   "id": "1bdef19f",
   "metadata": {},
   "outputs": [
    {
     "ename": "FileNotFoundError",
     "evalue": "[Errno 2] No such file or directory: './pictureimg1.jpg'",
     "output_type": "error",
     "traceback": [
      "\u001b[1;31m---------------------------------------------------------------------------\u001b[0m",
      "\u001b[1;31mFileNotFoundError\u001b[0m                         Traceback (most recent call last)",
      "\u001b[1;32m~\\AppData\\Local\\Temp/ipykernel_1520/3570340389.py\u001b[0m in \u001b[0;36m<module>\u001b[1;34m\u001b[0m\n\u001b[0;32m      4\u001b[0m \u001b[1;32mfor\u001b[0m \u001b[0mn\u001b[0m \u001b[1;32min\u001b[0m \u001b[0mrange\u001b[0m\u001b[1;33m(\u001b[0m\u001b[0mlen\u001b[0m\u001b[1;33m(\u001b[0m\u001b[0mfileName\u001b[0m\u001b[1;33m)\u001b[0m\u001b[1;33m)\u001b[0m\u001b[1;33m:\u001b[0m\u001b[1;33m\u001b[0m\u001b[1;33m\u001b[0m\u001b[0m\n\u001b[0;32m      5\u001b[0m \u001b[1;33m\u001b[0m\u001b[0m\n\u001b[1;32m----> 6\u001b[1;33m      \u001b[0mtmp\u001b[0m\u001b[1;33m=\u001b[0m\u001b[0mImage\u001b[0m\u001b[1;33m.\u001b[0m\u001b[0mopen\u001b[0m\u001b[1;33m(\u001b[0m\u001b[0mfileDir\u001b[0m\u001b[1;33m+\u001b[0m\u001b[0mfileName\u001b[0m\u001b[1;33m[\u001b[0m\u001b[0mn\u001b[0m\u001b[1;33m]\u001b[0m\u001b[1;33m)\u001b[0m\u001b[1;33m\u001b[0m\u001b[1;33m\u001b[0m\u001b[0m\n\u001b[0m\u001b[0;32m      7\u001b[0m \u001b[1;33m\u001b[0m\u001b[0m\n\u001b[0;32m      8\u001b[0m \u001b[0mprint\u001b[0m\u001b[1;33m(\u001b[0m\u001b[1;34mf'파일명: {fileName[n]}, 가로: {tmp.size[0]}, 세로: {tmp.size[1]}'\u001b[0m\u001b[1;33m)\u001b[0m\u001b[1;33m\u001b[0m\u001b[1;33m\u001b[0m\u001b[0m\n",
      "\u001b[1;32m~\\.conda\\envs\\multi\\lib\\site-packages\\PIL\\Image.py\u001b[0m in \u001b[0;36mopen\u001b[1;34m(fp, mode, formats)\u001b[0m\n\u001b[0;32m   2910\u001b[0m \u001b[1;33m\u001b[0m\u001b[0m\n\u001b[0;32m   2911\u001b[0m     \u001b[1;32mif\u001b[0m \u001b[0mfilename\u001b[0m\u001b[1;33m:\u001b[0m\u001b[1;33m\u001b[0m\u001b[1;33m\u001b[0m\u001b[0m\n\u001b[1;32m-> 2912\u001b[1;33m         \u001b[0mfp\u001b[0m \u001b[1;33m=\u001b[0m \u001b[0mbuiltins\u001b[0m\u001b[1;33m.\u001b[0m\u001b[0mopen\u001b[0m\u001b[1;33m(\u001b[0m\u001b[0mfilename\u001b[0m\u001b[1;33m,\u001b[0m \u001b[1;34m\"rb\"\u001b[0m\u001b[1;33m)\u001b[0m\u001b[1;33m\u001b[0m\u001b[1;33m\u001b[0m\u001b[0m\n\u001b[0m\u001b[0;32m   2913\u001b[0m         \u001b[0mexclusive_fp\u001b[0m \u001b[1;33m=\u001b[0m \u001b[1;32mTrue\u001b[0m\u001b[1;33m\u001b[0m\u001b[1;33m\u001b[0m\u001b[0m\n\u001b[0;32m   2914\u001b[0m \u001b[1;33m\u001b[0m\u001b[0m\n",
      "\u001b[1;31mFileNotFoundError\u001b[0m: [Errno 2] No such file or directory: './pictureimg1.jpg'"
     ]
    }
   ],
   "source": [
    "tm1 = time.time()\n",
    "\n",
    "\n",
    "for n in range(len(fileName)):\n",
    "\n",
    "     tmp=Image.open(fileDir+fileName[n])\n",
    "\n",
    "print(f'파일명: {fileName[n]}, 가로: {tmp.size[0]}, 세로: {tmp.size[1]}')\n",
    "\n",
    "\n",
    "print(\"===== End =====\")\n",
    "\n",
    "tm2=time.time()\n",
    "\n",
    "print(tm2-tm1)"
   ]
  },
  {
   "cell_type": "code",
   "execution_count": 38,
   "id": "eee6f510",
   "metadata": {},
   "outputs": [
    {
     "name": "stdout",
     "output_type": "stream",
     "text": [
      "숫자를 입력하세요:0\n",
      "===== End =====\n"
     ]
    }
   ],
   "source": [
    "#제어문(if)\n",
    "# input() : 사용자로부터 데이터를 입력받고자 할때 사용하는 함수\n",
    "# 모든 입력 데이터는 문자형 자료\n",
    "\n",
    "inData=int(input('숫자를 입력하세요:'))\n",
    "\n",
    "if inData > 0 :\n",
    "\n",
    "    print(\"0 보다 큰 값입니다.\")\n",
    "\n",
    "print(\"===== End =====\")"
   ]
  },
  {
   "cell_type": "code",
   "execution_count": 70,
   "id": "bd0f485e",
   "metadata": {},
   "outputs": [
    {
     "ename": "FileNotFoundError",
     "evalue": "[Errno 2] No such file or directory: './pictureimg1.jpg'",
     "output_type": "error",
     "traceback": [
      "\u001b[1;31m---------------------------------------------------------------------------\u001b[0m",
      "\u001b[1;31mFileNotFoundError\u001b[0m                         Traceback (most recent call last)",
      "\u001b[1;32m~\\AppData\\Local\\Temp/ipykernel_1520/2717950269.py\u001b[0m in \u001b[0;36m<module>\u001b[1;34m\u001b[0m\n\u001b[0;32m      7\u001b[0m       \u001b[1;32mif\u001b[0m \u001b[0mfn\u001b[0m\u001b[1;33m[\u001b[0m\u001b[1;33m-\u001b[0m\u001b[1;36m3\u001b[0m\u001b[1;33m:\u001b[0m\u001b[1;33m]\u001b[0m \u001b[1;33m==\u001b[0m \u001b[1;34m\"jpg\"\u001b[0m\u001b[1;33m:\u001b[0m\u001b[1;33m\u001b[0m\u001b[1;33m\u001b[0m\u001b[0m\n\u001b[0;32m      8\u001b[0m \u001b[1;33m\u001b[0m\u001b[0m\n\u001b[1;32m----> 9\u001b[1;33m          \u001b[0mtmp\u001b[0m\u001b[1;33m=\u001b[0m\u001b[0mImage\u001b[0m\u001b[1;33m.\u001b[0m\u001b[0mopen\u001b[0m\u001b[1;33m(\u001b[0m\u001b[0mfileDir\u001b[0m\u001b[1;33m+\u001b[0m\u001b[0mfn\u001b[0m\u001b[1;33m)\u001b[0m           \u001b[1;31m# 정의된 파일 열어 tmp에 저장하기\u001b[0m\u001b[1;33m\u001b[0m\u001b[1;33m\u001b[0m\u001b[0m\n\u001b[0m\u001b[0;32m     10\u001b[0m \u001b[1;33m\u001b[0m\u001b[0m\n\u001b[0;32m     11\u001b[0m                                                                    \u001b[1;31m# 파일명, tmp에 있는 이미지 사이즈 출력\u001b[0m\u001b[1;33m\u001b[0m\u001b[1;33m\u001b[0m\u001b[1;33m\u001b[0m\u001b[0m\n",
      "\u001b[1;32m~\\.conda\\envs\\multi\\lib\\site-packages\\PIL\\Image.py\u001b[0m in \u001b[0;36mopen\u001b[1;34m(fp, mode, formats)\u001b[0m\n\u001b[0;32m   2910\u001b[0m \u001b[1;33m\u001b[0m\u001b[0m\n\u001b[0;32m   2911\u001b[0m     \u001b[1;32mif\u001b[0m \u001b[0mfilename\u001b[0m\u001b[1;33m:\u001b[0m\u001b[1;33m\u001b[0m\u001b[1;33m\u001b[0m\u001b[0m\n\u001b[1;32m-> 2912\u001b[1;33m         \u001b[0mfp\u001b[0m \u001b[1;33m=\u001b[0m \u001b[0mbuiltins\u001b[0m\u001b[1;33m.\u001b[0m\u001b[0mopen\u001b[0m\u001b[1;33m(\u001b[0m\u001b[0mfilename\u001b[0m\u001b[1;33m,\u001b[0m \u001b[1;34m\"rb\"\u001b[0m\u001b[1;33m)\u001b[0m\u001b[1;33m\u001b[0m\u001b[1;33m\u001b[0m\u001b[0m\n\u001b[0m\u001b[0;32m   2913\u001b[0m         \u001b[0mexclusive_fp\u001b[0m \u001b[1;33m=\u001b[0m \u001b[1;32mTrue\u001b[0m\u001b[1;33m\u001b[0m\u001b[1;33m\u001b[0m\u001b[0m\n\u001b[0;32m   2914\u001b[0m \u001b[1;33m\u001b[0m\u001b[0m\n",
      "\u001b[1;31mFileNotFoundError\u001b[0m: [Errno 2] No such file or directory: './pictureimg1.jpg'"
     ]
    }
   ],
   "source": [
    "fileDir=\"./picture\"\n",
    "\n",
    "fileName=os.listdir(fileDir)\n",
    "\n",
    "for fn in fileName:\n",
    "\n",
    "      if fn[-3:] == \"jpg\":\n",
    "\n",
    "         tmp=Image.open(fileDir+fn)           # 정의된 파일 열어 tmp에 저장하기\n",
    "\n",
    "                                                                   # 파일명, tmp에 있는 이미지 사이즈 출력\n",
    "\n",
    "print(f'파일명: {fn}, 가로: {tmp.size[0]}, 세로: {tmp.size[1]}')\n",
    "\n",
    "print(\"===== End =====\")\n",
    "\n",
    "____________________________\n"
   ]
  },
  {
   "cell_type": "markdown",
   "id": "e15277d7",
   "metadata": {},
   "source": [
    "images 폴더에서 강아지와 고양이 찾아내기\n",
    "\n",
    "break: 반복문 영역을 벗어남\n",
    "\n",
    "continue: 아래 문장을 실행하지 않고 for문으로 돌아가 다음 데이터 실행"
   ]
  },
  {
   "cell_type": "code",
   "execution_count": 43,
   "id": "b66a5199",
   "metadata": {},
   "outputs": [],
   "source": [
    "from PIL import Image\n",
    "\n",
    "import os"
   ]
  },
  {
   "cell_type": "code",
   "execution_count": 44,
   "id": "221713f6",
   "metadata": {},
   "outputs": [
    {
     "name": "stdout",
     "output_type": "stream",
     "text": [
      "['img1.jpg', 'img10.jpg', 'img11.jpg', 'img12.jpg', 'img13.jpg', 'img14.jpg', 'img15.jpg', 'img16.jpg', 'img17.jpg', 'img18.jpg', 'img19.jpg', 'img2.jpg', 'img20.jpg', 'img21.jpg', 'img22.jpg', 'img23.jpg', 'img24.jpg', 'img25.jpg', 'img26.jpg', 'img27.jpg', 'img28.jpg', 'img29.jpg', 'img3.jpg', 'img30.jpg', 'img4.jpg', 'img5.jpg', 'img6.jpg', 'img7.jpg', 'img8.jpg', 'img9.jpg', 'pic1.jpg', 'pic2.jpg', 'pic3.jpg', '연습.txt']\n"
     ]
    }
   ],
   "source": [
    "fileDir =\"C:/Users/wooky/Desktop/회사원/취업지원센터/내일배움카드/빅데이터 기반 지능형 서비스 개발/pycode/0622 자료형 처리를 위한 for_if 기본/picture\"\n",
    "\n",
    "fileName =os.listdir(fileDir)\n",
    "\n",
    "print(fileName)"
   ]
  },
  {
   "cell_type": "code",
   "execution_count": 85,
   "id": "4e79302a",
   "metadata": {},
   "outputs": [
    {
     "ename": "FileNotFoundError",
     "evalue": "[Errno 2] No such file or directory: './pictureimg1.jpg'",
     "output_type": "error",
     "traceback": [
      "\u001b[1;31m---------------------------------------------------------------------------\u001b[0m",
      "\u001b[1;31mFileNotFoundError\u001b[0m                         Traceback (most recent call last)",
      "\u001b[1;32m~\\AppData\\Local\\Temp/ipykernel_1520/3094397745.py\u001b[0m in \u001b[0;36m<module>\u001b[1;34m\u001b[0m\n\u001b[0;32m      3\u001b[0m     \u001b[1;32mif\u001b[0m \u001b[0mfn\u001b[0m\u001b[1;33m[\u001b[0m\u001b[1;33m-\u001b[0m\u001b[1;36m3\u001b[0m\u001b[1;33m:\u001b[0m\u001b[1;33m]\u001b[0m \u001b[1;33m==\u001b[0m \u001b[1;34m\"jpg\"\u001b[0m\u001b[1;33m:\u001b[0m\u001b[1;33m\u001b[0m\u001b[1;33m\u001b[0m\u001b[0m\n\u001b[0;32m      4\u001b[0m \u001b[1;33m\u001b[0m\u001b[0m\n\u001b[1;32m----> 5\u001b[1;33m         \u001b[0mtmp\u001b[0m\u001b[1;33m=\u001b[0m\u001b[0mImage\u001b[0m\u001b[1;33m.\u001b[0m\u001b[0mopen\u001b[0m\u001b[1;33m(\u001b[0m\u001b[0mfileDir\u001b[0m\u001b[1;33m+\u001b[0m\u001b[0mfn\u001b[0m\u001b[1;33m)\u001b[0m\u001b[1;33m\u001b[0m\u001b[1;33m\u001b[0m\u001b[0m\n\u001b[0m\u001b[0;32m      6\u001b[0m \u001b[1;33m\u001b[0m\u001b[0m\n\u001b[0;32m      7\u001b[0m     \u001b[1;32melse\u001b[0m \u001b[1;33m:\u001b[0m\u001b[1;33m\u001b[0m\u001b[1;33m\u001b[0m\u001b[0m\n",
      "\u001b[1;32m~\\.conda\\envs\\multi\\lib\\site-packages\\PIL\\Image.py\u001b[0m in \u001b[0;36mopen\u001b[1;34m(fp, mode, formats)\u001b[0m\n\u001b[0;32m   2910\u001b[0m \u001b[1;33m\u001b[0m\u001b[0m\n\u001b[0;32m   2911\u001b[0m     \u001b[1;32mif\u001b[0m \u001b[0mfilename\u001b[0m\u001b[1;33m:\u001b[0m\u001b[1;33m\u001b[0m\u001b[1;33m\u001b[0m\u001b[0m\n\u001b[1;32m-> 2912\u001b[1;33m         \u001b[0mfp\u001b[0m \u001b[1;33m=\u001b[0m \u001b[0mbuiltins\u001b[0m\u001b[1;33m.\u001b[0m\u001b[0mopen\u001b[0m\u001b[1;33m(\u001b[0m\u001b[0mfilename\u001b[0m\u001b[1;33m,\u001b[0m \u001b[1;34m\"rb\"\u001b[0m\u001b[1;33m)\u001b[0m\u001b[1;33m\u001b[0m\u001b[1;33m\u001b[0m\u001b[0m\n\u001b[0m\u001b[0;32m   2913\u001b[0m         \u001b[0mexclusive_fp\u001b[0m \u001b[1;33m=\u001b[0m \u001b[1;32mTrue\u001b[0m\u001b[1;33m\u001b[0m\u001b[1;33m\u001b[0m\u001b[0m\n\u001b[0;32m   2914\u001b[0m \u001b[1;33m\u001b[0m\u001b[0m\n",
      "\u001b[1;31mFileNotFoundError\u001b[0m: [Errno 2] No such file or directory: './pictureimg1.jpg'"
     ]
    }
   ],
   "source": [
    "for fn in fileName:\n",
    "\n",
    "    if fn[-3:] == \"jpg\":\n",
    "\n",
    "        tmp=Image.open(fileDir+fn)\n",
    "\n",
    "    else :\n",
    "\n",
    "        continue\n",
    " \n",
    "\n",
    "    if fn[:3] == \"강아지\" :\n",
    "\n",
    "          tmp.save(fileDir+\"강아지/\"+fn)\n",
    "\n",
    "    elif fn[:3] == \"고양이\" :   \n",
    "\n",
    "        tmp.save(fileDir+\"고양이/\"+fn)\n",
    "\n",
    "\n",
    "print(\"===== End =====\")"
   ]
  },
  {
   "cell_type": "code",
   "execution_count": 86,
   "id": "b062456e",
   "metadata": {},
   "outputs": [],
   "source": [
    "from PIL import Image\n",
    "import os"
   ]
  },
  {
   "cell_type": "code",
   "execution_count": 87,
   "id": "27feb054",
   "metadata": {},
   "outputs": [
    {
     "name": "stdout",
     "output_type": "stream",
     "text": [
      "['pic1.jpg', 'pic2.jpg', 'pic3.jpg', '강아지', '강아지1.jpg', '강아지10.jpg', '강아지2.jpg', '강아지3.jpg', '강아지4.jpg', '강아지5.jpg', '강아지6.jpg', '강아지7.jpg', '강아지8.jpg', '강아지9.jpg', '고양이', '고양이1.jpg', '고양이2.jpg', '고양이3.jpg', '고양이4.jpg', '고양이5.jpg', '고양이6.jpg', '연습.txt']\n"
     ]
    }
   ],
   "source": [
    "fileDir=\"./images/\"\n",
    "fileName=os.listdir(fileDir)\n",
    "print(fileName)"
   ]
  },
  {
   "cell_type": "code",
   "execution_count": 93,
   "id": "7c4138a6",
   "metadata": {},
   "outputs": [
    {
     "ename": "ValueError",
     "evalue": "unknown file extension: ",
     "output_type": "error",
     "traceback": [
      "\u001b[1;31m---------------------------------------------------------------------------\u001b[0m",
      "\u001b[1;31mKeyError\u001b[0m                                  Traceback (most recent call last)",
      "\u001b[1;32m~\\.conda\\envs\\multi\\lib\\site-packages\\PIL\\Image.py\u001b[0m in \u001b[0;36msave\u001b[1;34m(self, fp, format, **params)\u001b[0m\n\u001b[0;32m   2151\u001b[0m             \u001b[1;32mtry\u001b[0m\u001b[1;33m:\u001b[0m\u001b[1;33m\u001b[0m\u001b[1;33m\u001b[0m\u001b[0m\n\u001b[1;32m-> 2152\u001b[1;33m                 \u001b[0mformat\u001b[0m \u001b[1;33m=\u001b[0m \u001b[0mEXTENSION\u001b[0m\u001b[1;33m[\u001b[0m\u001b[0mext\u001b[0m\u001b[1;33m]\u001b[0m\u001b[1;33m\u001b[0m\u001b[1;33m\u001b[0m\u001b[0m\n\u001b[0m\u001b[0;32m   2153\u001b[0m             \u001b[1;32mexcept\u001b[0m \u001b[0mKeyError\u001b[0m \u001b[1;32mas\u001b[0m \u001b[0me\u001b[0m\u001b[1;33m:\u001b[0m\u001b[1;33m\u001b[0m\u001b[1;33m\u001b[0m\u001b[0m\n",
      "\u001b[1;31mKeyError\u001b[0m: ''",
      "\nThe above exception was the direct cause of the following exception:\n",
      "\u001b[1;31mValueError\u001b[0m                                Traceback (most recent call last)",
      "\u001b[1;32m~\\AppData\\Local\\Temp/ipykernel_1520/4205193967.py\u001b[0m in \u001b[0;36m<module>\u001b[1;34m\u001b[0m\n\u001b[0;32m      7\u001b[0m      \u001b[1;32mif\u001b[0m \u001b[0mfn\u001b[0m\u001b[1;33m[\u001b[0m\u001b[1;33m:\u001b[0m\u001b[1;36m3\u001b[0m\u001b[1;33m]\u001b[0m \u001b[1;33m==\u001b[0m \u001b[1;34m\"강아지\"\u001b[0m\u001b[1;33m:\u001b[0m\u001b[1;33m\u001b[0m\u001b[1;33m\u001b[0m\u001b[0m\n\u001b[0;32m      8\u001b[0m \u001b[1;33m\u001b[0m\u001b[0m\n\u001b[1;32m----> 9\u001b[1;33m         \u001b[0mtmp\u001b[0m\u001b[1;33m.\u001b[0m\u001b[0msave\u001b[0m\u001b[1;33m(\u001b[0m\u001b[0mfileDir\u001b[0m\u001b[1;33m+\u001b[0m\u001b[1;34m\"강아지/\"\u001b[0m\u001b[1;33m+\u001b[0m\u001b[0mfn\u001b[0m\u001b[1;33m)\u001b[0m       \u001b[1;31m#os.remove(fileDir+fn)\u001b[0m\u001b[1;33m\u001b[0m\u001b[1;33m\u001b[0m\u001b[0m\n\u001b[0m\u001b[0;32m     10\u001b[0m \u001b[1;33m\u001b[0m\u001b[0m\n\u001b[0;32m     11\u001b[0m      \u001b[1;32melif\u001b[0m \u001b[0mfn\u001b[0m\u001b[1;33m[\u001b[0m\u001b[1;33m:\u001b[0m\u001b[1;36m3\u001b[0m\u001b[1;33m]\u001b[0m \u001b[1;33m==\u001b[0m \u001b[1;34m\"고양이\"\u001b[0m\u001b[1;33m:\u001b[0m\u001b[1;33m\u001b[0m\u001b[1;33m\u001b[0m\u001b[0m\n",
      "\u001b[1;32m~\\.conda\\envs\\multi\\lib\\site-packages\\PIL\\Image.py\u001b[0m in \u001b[0;36msave\u001b[1;34m(self, fp, format, **params)\u001b[0m\n\u001b[0;32m   2152\u001b[0m                 \u001b[0mformat\u001b[0m \u001b[1;33m=\u001b[0m \u001b[0mEXTENSION\u001b[0m\u001b[1;33m[\u001b[0m\u001b[0mext\u001b[0m\u001b[1;33m]\u001b[0m\u001b[1;33m\u001b[0m\u001b[1;33m\u001b[0m\u001b[0m\n\u001b[0;32m   2153\u001b[0m             \u001b[1;32mexcept\u001b[0m \u001b[0mKeyError\u001b[0m \u001b[1;32mas\u001b[0m \u001b[0me\u001b[0m\u001b[1;33m:\u001b[0m\u001b[1;33m\u001b[0m\u001b[1;33m\u001b[0m\u001b[0m\n\u001b[1;32m-> 2154\u001b[1;33m                 \u001b[1;32mraise\u001b[0m \u001b[0mValueError\u001b[0m\u001b[1;33m(\u001b[0m\u001b[1;34mf\"unknown file extension: {ext}\"\u001b[0m\u001b[1;33m)\u001b[0m \u001b[1;32mfrom\u001b[0m \u001b[0me\u001b[0m\u001b[1;33m\u001b[0m\u001b[1;33m\u001b[0m\u001b[0m\n\u001b[0m\u001b[0;32m   2155\u001b[0m \u001b[1;33m\u001b[0m\u001b[0m\n\u001b[0;32m   2156\u001b[0m         \u001b[1;32mif\u001b[0m \u001b[0mformat\u001b[0m\u001b[1;33m.\u001b[0m\u001b[0mupper\u001b[0m\u001b[1;33m(\u001b[0m\u001b[1;33m)\u001b[0m \u001b[1;32mnot\u001b[0m \u001b[1;32min\u001b[0m \u001b[0mSAVE\u001b[0m\u001b[1;33m:\u001b[0m\u001b[1;33m\u001b[0m\u001b[1;33m\u001b[0m\u001b[0m\n",
      "\u001b[1;31mValueError\u001b[0m: unknown file extension: "
     ]
    }
   ],
   "source": [
    "for fn in fileName:\n",
    "\n",
    "     if fn[-3:] == \"jpg\":\n",
    "\n",
    "        tmp=Image.open(fileDir+fn)\n",
    "\n",
    "     if fn[:3] == \"강아지\":\n",
    "\n",
    "        tmp.save(fileDir+\"강아지/\"+fn)       #os.remove(fileDir+fn)\n",
    "\n",
    "     elif fn[:3] == \"고양이\":\n",
    "\n",
    "        tmp.save(fileDir+\"고양이/\"+fn)    #os.remove(fileDir+fn)\n",
    "\n",
    "    \n",
    "\n",
    "                                                            #del fn, tmp, fileDir, fileName\n",
    "\n",
    "\n",
    "print(\"==== 작업 완료 ====\")\n"
   ]
  },
  {
   "cell_type": "code",
   "execution_count": 94,
   "id": "9164813e",
   "metadata": {},
   "outputs": [
    {
     "data": {
      "text/plain": [
       "'./images/건양이/강아지'"
      ]
     },
     "execution_count": 94,
     "metadata": {},
     "output_type": "execute_result"
    }
   ],
   "source": [
    "fileDir+\"건양이/\"+fn"
   ]
  },
  {
   "cell_type": "code",
   "execution_count": 95,
   "id": "14c1484f",
   "metadata": {},
   "outputs": [
    {
     "data": {
      "text/plain": [
       "'./images/'"
      ]
     },
     "execution_count": 95,
     "metadata": {},
     "output_type": "execute_result"
    }
   ],
   "source": [
    "fileDir"
   ]
  },
  {
   "cell_type": "code",
   "execution_count": 96,
   "id": "214de140",
   "metadata": {},
   "outputs": [
    {
     "data": {
      "text/plain": [
       "'고양이/'"
      ]
     },
     "execution_count": 96,
     "metadata": {},
     "output_type": "execute_result"
    }
   ],
   "source": [
    "\"고양이/\""
   ]
  },
  {
   "cell_type": "code",
   "execution_count": 97,
   "id": "7e382da9",
   "metadata": {},
   "outputs": [
    {
     "data": {
      "text/plain": [
       "'강아지'"
      ]
     },
     "execution_count": 97,
     "metadata": {},
     "output_type": "execute_result"
    }
   ],
   "source": [
    "fn"
   ]
  },
  {
   "cell_type": "code",
   "execution_count": 98,
   "id": "f2d5866e",
   "metadata": {},
   "outputs": [
    {
     "data": {
      "text/plain": [
       "'./images/고양이/고양이6.jpg'"
      ]
     },
     "execution_count": 98,
     "metadata": {},
     "output_type": "execute_result"
    }
   ],
   "source": [
    "'./images/'+'고양이/'+'고양이6.jpg'"
   ]
  },
  {
   "cell_type": "code",
   "execution_count": 99,
   "id": "67ff0453",
   "metadata": {},
   "outputs": [],
   "source": [
    "tmp=Image.open('./images/'+'고양이/'+'고양이6.jpg')\n",
    "tmp.show()"
   ]
  },
  {
   "cell_type": "code",
   "execution_count": 109,
   "id": "2cbd5d03",
   "metadata": {},
   "outputs": [
    {
     "name": "stdout",
     "output_type": "stream",
     "text": [
      "파일명 pic1 , 확장자 jpg\n",
      "파일명 pic2 , 확장자 jpg\n",
      "파일명 pic3 , 확장자 jpg\n",
      "파일명 강아지1 , 확장자 jpg\n",
      "파일명 강아지10 , 확장자 jpg\n",
      "파일명 강아지2 , 확장자 jpg\n",
      "파일명 강아지3 , 확장자 jpg\n",
      "파일명 강아지4 , 확장자 jpg\n",
      "파일명 강아지5 , 확장자 jpg\n",
      "파일명 강아지6 , 확장자 jpg\n",
      "파일명 강아지7 , 확장자 jpg\n",
      "파일명 강아지8 , 확장자 jpg\n",
      "파일명 강아지9 , 확장자 jpg\n",
      "파일명 고양이1 , 확장자 jpg\n",
      "파일명 고양이2 , 확장자 jpg\n",
      "파일명 고양이3 , 확장자 jpg\n",
      "파일명 고양이4 , 확장자 jpg\n",
      "파일명 고양이5 , 확장자 jpg\n",
      "파일명 고양이6 , 확장자 jpg\n",
      "파일명 연습 , 확장자 txt\n"
     ]
    }
   ],
   "source": [
    "from PIL import Image\n",
    "import os\n",
    "\n",
    "fileDir=\"./images/\"\n",
    "fileName=os.listdir(fileDir)    #print(fileName)\n",
    "\n",
    "for fn in fileName:\n",
    "    fns=fn.split(\".\")\n",
    "    if len(fns) == 1:\n",
    "            continue\n",
    "    else:\n",
    "        print(\"파일명\", fns[0], \", 확장자\", fns[1])"
   ]
  },
  {
   "cell_type": "code",
   "execution_count": null,
   "id": "621be760",
   "metadata": {},
   "outputs": [],
   "source": []
  }
 ],
 "metadata": {
  "kernelspec": {
   "display_name": "Python 3 (ipykernel)",
   "language": "python",
   "name": "python3"
  },
  "language_info": {
   "codemirror_mode": {
    "name": "ipython",
    "version": 3
   },
   "file_extension": ".py",
   "mimetype": "text/x-python",
   "name": "python",
   "nbconvert_exporter": "python",
   "pygments_lexer": "ipython3",
   "version": "3.9.5"
  }
 },
 "nbformat": 4,
 "nbformat_minor": 5
}
