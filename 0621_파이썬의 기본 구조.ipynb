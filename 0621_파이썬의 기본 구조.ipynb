{
 "cells": [
  {
   "cell_type": "code",
   "execution_count": 1,
   "id": "101844c4",
   "metadata": {},
   "outputs": [
    {
     "name": "stdout",
     "output_type": "stream",
     "text": [
      "7\n"
     ]
    }
   ],
   "source": [
    "# 주석문: 설명문, 실행 코드에 영향을 주지 않는다.\n",
    "\n",
    "a=3\n",
    "b=4\n",
    "\n",
    "print(a+b) # 사용자에게 내용 전달시 사용하는 함수"
   ]
  },
  {
   "cell_type": "code",
   "execution_count": 2,
   "id": "5e4fdcd3",
   "metadata": {},
   "outputs": [
    {
     "name": "stdout",
     "output_type": "stream",
     "text": [
      "7\n"
     ]
    }
   ],
   "source": [
    "a=3;b=4;print(a+b) # 세미콘론();) => 보통 한 줄에 여러 구문을 사용할 때 세미콜론으로 구분해줍니다."
   ]
  },
  {
   "cell_type": "code",
   "execution_count": 4,
   "id": "aeba8c0b",
   "metadata": {},
   "outputs": [
    {
     "name": "stdout",
     "output_type": "stream",
     "text": [
      "Hello\n",
      "1234\n"
     ]
    }
   ],
   "source": [
    "print('Hello')\n",
    "print(\"1234\")"
   ]
  },
  {
   "cell_type": "code",
   "execution_count": 11,
   "id": "21b30085",
   "metadata": {},
   "outputs": [
    {
     "name": "stdout",
     "output_type": "stream",
     "text": [
      "a는 10입니다.\n"
     ]
    }
   ],
   "source": [
    "a=10\n",
    "if a==10:\n",
    " print(\"a는 10입니다.\")"
   ]
  },
  {
   "cell_type": "code",
   "execution_count": 12,
   "id": "270376ad",
   "metadata": {},
   "outputs": [
    {
     "name": "stdout",
     "output_type": "stream",
     "text": [
      "a는 10입니다.\n"
     ]
    }
   ],
   "source": [
    "print(\"a는\",\n",
    "\"10입니다.\")"
   ]
  }
 ],
 "metadata": {
  "kernelspec": {
   "display_name": "Python 3 (ipykernel)",
   "language": "python",
   "name": "python3"
  },
  "language_info": {
   "codemirror_mode": {
    "name": "ipython",
    "version": 3
   },
   "file_extension": ".py",
   "mimetype": "text/x-python",
   "name": "python",
   "nbconvert_exporter": "python",
   "pygments_lexer": "ipython3",
   "version": "3.9.5"
  }
 },
 "nbformat": 4,
 "nbformat_minor": 5
}
