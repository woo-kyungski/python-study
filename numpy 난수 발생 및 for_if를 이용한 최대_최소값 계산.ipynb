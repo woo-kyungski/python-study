{
 "cells": [
  {
   "cell_type": "markdown",
   "id": "f63ad4cb",
   "metadata": {},
   "source": [
    "# numpy 모듈\n",
    "\n",
    "- random 모듈을 이용한 난수 발생\n",
    "- random.randint(시작값, 종료값): 시작~종료값 범위에 있는 정수를 임의로 발생"
   ]
  },
  {
   "cell_type": "code",
   "execution_count": 2,
   "id": "6aeee5c3",
   "metadata": {},
   "outputs": [
    {
     "data": {
      "text/plain": [
       "18"
      ]
     },
     "execution_count": 2,
     "metadata": {},
     "output_type": "execute_result"
    }
   ],
   "source": [
    "import numpy as np\n",
    "np.random.randint(10, 21)"
   ]
  },
  {
   "cell_type": "markdown",
   "id": "0471fee9",
   "metadata": {},
   "source": [
    "## 0~50 사이의 숫자를 무작위로 생성\n",
    "- 10개의 데이터 생성\n",
    "- 생성된 숫자는 리스트형 데이터로 저장\n",
    "- for문 이용"
   ]
  },
  {
   "cell_type": "code",
   "execution_count": 3,
   "id": "4719c651",
   "metadata": {},
   "outputs": [
    {
     "name": "stdout",
     "output_type": "stream",
     "text": [
      "[21, 3, 24, 1, 18, 26, 30, 41, 22, 7]\n"
     ]
    }
   ],
   "source": [
    "import numpy as np\n",
    "\n",
    "rd_lst=[]\n",
    "\n",
    "for i in range(10):\n",
    "    rd_lst.append(np.random.randint(0, 51))\n",
    "\n",
    "print(rd_lst)"
   ]
  },
  {
   "cell_type": "code",
   "execution_count": 5,
   "id": "dfe346a9",
   "metadata": {},
   "outputs": [
    {
     "name": "stdout",
     "output_type": "stream",
     "text": [
      "[16, 28, 1, 6, 9, 48, 48, 9, 37, 7]\n"
     ]
    }
   ],
   "source": [
    "rd_lst=[np.random.randint(0, 51) \n",
    "        for i in range(10)]\n",
    "\n",
    "print(rd_lst)"
   ]
  },
  {
   "cell_type": "markdown",
   "id": "ce564727",
   "metadata": {},
   "source": [
    "words 데이터에서 글자수가 4개 이상인 데이터를 찾아 new_words 에 리스트로 저장"
   ]
  },
  {
   "cell_type": "code",
   "execution_count": 6,
   "id": "beaeccd5",
   "metadata": {},
   "outputs": [
    {
     "name": "stdout",
     "output_type": "stream",
     "text": [
      "['멀티캠퍼스', '티스토리', '프로그래밍']\n"
     ]
    }
   ],
   "source": [
    "words = [\"멀티캠퍼스\",\"티스토리\", \"블로그\", \"파이썬\", \"for\", \"프로그래밍\", \"반복\"]\n",
    "\n",
    "new_words=[]\n",
    "\n",
    "for word in words:\n",
    "    if len(word) > 3:\n",
    "        new_words.append(word)\n",
    "        \n",
    "print(new_words)"
   ]
  },
  {
   "cell_type": "code",
   "execution_count": 38,
   "id": "4f704482",
   "metadata": {},
   "outputs": [
    {
     "name": "stdout",
     "output_type": "stream",
     "text": [
      "이중 for문\n",
      "파이썬\n",
      "프로그래밍\n",
      "스터디\n",
      "Python\n",
      "NLP\n",
      "ML\n",
      "DL\n",
      "leetCode\n",
      "BaekJoon\n",
      "HackerRank\n",
      "멀티캠퍼스\n",
      "COMPAS\n",
      "DACON\n",
      "Kaggle\n"
     ]
    }
   ],
   "source": [
    "words = [[ \"이중 for문\", \"파이썬\", \"프로그래밍\", \"스터디\" ], \n",
    "         [ \"Python\", \"NLP\", \"ML\", \"DL\" ], \n",
    "         [ \"leetCode\", \"BaekJoon\", \"HackerRank\" ],\n",
    "         [ \"멀티캠퍼스\", \"COMPAS\", \"DACON\", \"Kaggle\" ] ]\n",
    "\n",
    "# words가 가지고 있는 단어 출력\n",
    "for word_lst in words:\n",
    "    for word in word_lst:\n",
    "        print(word)"
   ]
  },
  {
   "cell_type": "code",
   "execution_count": 13,
   "id": "a35a548b",
   "metadata": {},
   "outputs": [
    {
     "name": "stdout",
     "output_type": "stream",
     "text": [
      "['이중 for문', '프로그래밍', 'Python', 'leetCode', 'BaekJoon', 'HackerRank', '멀티캠퍼스', 'COMPAS', 'DACON', 'Kaggle']\n"
     ]
    }
   ],
   "source": [
    "words = [[ \"이중 for문\", \"파이썬\", \"프로그래밍\", \"스터디\" ], \n",
    "         [ \"Python\", \"NLP\", \"ML\", \"DL\" ], \n",
    "         [ \"leetCode\", \"BaekJoon\", \"HackerRank\" ],\n",
    "         [ \"멀티캠퍼스\", \"COMPAS\", \"DACON\", \"Kaggle\" ]]\n",
    "\n",
    "# words가 가지고 있는 단어의 길이가 4 이상인 데이터만 new_words에 리스트로 추가\n",
    "new_words=[]\n",
    "\n",
    "for word_lst in words:\n",
    "    for word in word_lst:\n",
    "        if len(word)>=4:\n",
    "            new_words.append(word)\n",
    "            \n",
    "print(new_words)"
   ]
  },
  {
   "cell_type": "code",
   "execution_count": 17,
   "id": "67d45e92",
   "metadata": {},
   "outputs": [],
   "source": [
    "words = [[ \"이중 for문\", \"파이썬\", \"프로그래밍\", \"스터디\" ], \n",
    "         [ \"Python\", \"NLP\", \"ML\", \"DL\" ], \n",
    "         [ \"leetCode\", \"BaekJoon\", \"HackerRank\" ],\n",
    "         [ \"멀티캠퍼스\", \"COMPAS\", \"DACON\", \"Kaggle\" ] ]"
   ]
  },
  {
   "cell_type": "code",
   "execution_count": 40,
   "id": "62bc4305",
   "metadata": {},
   "outputs": [
    {
     "name": "stdout",
     "output_type": "stream",
     "text": [
      "['이중 for문', '프로그래밍', 'Python', 'leetCode', 'BaekJoon', 'HackerRank', '멀티캠퍼스', 'COMPAS', 'DACON', 'Kaggle']\n"
     ]
    }
   ],
   "source": [
    "new_words=[word for word_lst in words \n",
    "           for word in word_lst \n",
    "           if len(word)>=4]\n",
    "\n",
    "print(new_words)"
   ]
  },
  {
   "cell_type": "code",
   "execution_count": null,
   "id": "9b542fef",
   "metadata": {},
   "outputs": [],
   "source": []
  },
  {
   "cell_type": "code",
   "execution_count": null,
   "id": "ca2f7c41",
   "metadata": {},
   "outputs": [],
   "source": []
  },
  {
   "cell_type": "code",
   "execution_count": null,
   "id": "b3f1f8cc",
   "metadata": {},
   "outputs": [],
   "source": []
  },
  {
   "cell_type": "code",
   "execution_count": null,
   "id": "ded097c6",
   "metadata": {},
   "outputs": [],
   "source": []
  }
 ],
 "metadata": {
  "kernelspec": {
   "display_name": "Python 3 (ipykernel)",
   "language": "python",
   "name": "python3"
  },
  "language_info": {
   "codemirror_mode": {
    "name": "ipython",
    "version": 3
   },
   "file_extension": ".py",
   "mimetype": "text/x-python",
   "name": "python",
   "nbconvert_exporter": "python",
   "pygments_lexer": "ipython3",
   "version": "3.9.5"
  }
 },
 "nbformat": 4,
 "nbformat_minor": 5
}
